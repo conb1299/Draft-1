{
 "cells": [
  {
   "cell_type": "markdown",
   "metadata": {},
   "source": [
    "# Employee Turnover Analysis\n",
    " \n"
   ]
  },
  {
   "cell_type": "code",
   "execution_count": 63,
   "metadata": {},
   "outputs": [],
   "source": [
    "import pandas as pd\n",
    "import scipy\n",
    "import matplotlib.pyplot as plt\n",
    "import numpy as np\n",
    "%matplotlib inline"
   ]
  },
  {
   "cell_type": "code",
   "execution_count": 6,
   "metadata": {},
   "outputs": [
    {
     "name": "stdout",
     "output_type": "stream",
     "text": [
      "   satisfaction_level  last_evaluation  number_project  average_montly_hours  \\\n",
      "0                0.38             0.53               2                   157   \n",
      "1                0.80             0.86               5                   262   \n",
      "2                0.11             0.88               7                   272   \n",
      "3                0.72             0.87               5                   223   \n",
      "4                0.37             0.52               2                   159   \n",
      "\n",
      "   time_spend_company  Work_accident  left  promotion_last_5years  sales  \\\n",
      "0                   3              0     1                      0  sales   \n",
      "1                   6              0     1                      0  sales   \n",
      "2                   4              0     1                      0  sales   \n",
      "3                   5              0     1                      0  sales   \n",
      "4                   3              0     1                      0  sales   \n",
      "\n",
      "   salary  \n",
      "0     low  \n",
      "1  medium  \n",
      "2  medium  \n",
      "3     low  \n",
      "4     low  \n"
     ]
    }
   ],
   "source": [
    "df = pd.read_csv('Human_Resources.csv')\n",
    "print(df.head())\n"
   ]
  },
  {
   "cell_type": "markdown",
   "metadata": {},
   "source": [
    "This dataframe shows us a list of employees from a specific company and variables describing their time there.\n",
    "We want to look at the rate of turnover of the employees and answer a few questions to help the company moving foward.\n",
    "### First we want to identify which factor is most predictive of an employee leaving?\n",
    "\n",
    "### Next, can the company allocate more money to their employees to help entice them to stay? \n",
    "\n",
    "### Lastly, what can the company do preemptively while hiring an employee to help prevent said employee from leaving? \n",
    "By looking at the data we can come to some conclusions that should help the company dealing with their turnover problem."
   ]
  },
  {
   "cell_type": "markdown",
   "metadata": {},
   "source": [
    "## 1. Which factor is most predictative of an employee leaving?"
   ]
  },
  {
   "cell_type": "code",
   "execution_count": 20,
   "metadata": {
    "scrolled": true
   },
   "outputs": [
    {
     "data": {
      "text/plain": [
       "['satisfaction_level',\n",
       " 'last_evaluation',\n",
       " 'number_project',\n",
       " 'average_montly_hours',\n",
       " 'time_spend_company',\n",
       " 'Work_accident',\n",
       " 'left',\n",
       " 'promotion_last_5years',\n",
       " 'sales',\n",
       " 'salary']"
      ]
     },
     "execution_count": 20,
     "metadata": {},
     "output_type": "execute_result"
    }
   ],
   "source": [
    "list(df)\n",
    "#Listing the list of variables which are represented in the dataset. "
   ]
  },
  {
   "cell_type": "markdown",
   "metadata": {},
   "source": [
    "By listing all the variables in the dataset we can see which factors we will be looking at."
   ]
  },
  {
   "cell_type": "code",
   "execution_count": 9,
   "metadata": {},
   "outputs": [
    {
     "data": {
      "text/plain": [
       "0.2380825388359224"
      ]
     },
     "execution_count": 9,
     "metadata": {},
     "output_type": "execute_result"
    }
   ],
   "source": [
    "df['left'].mean()"
   ]
  },
  {
   "cell_type": "markdown",
   "metadata": {},
   "source": [
    "The column 'left' has an integer value to represent whether or not the employee left the company with 1 indicating they did\n",
    "and 0 indicating they did not. Taking the mean of this data we can see 23% of employees did indeed leave the company.\n"
   ]
  },
  {
   "cell_type": "code",
   "execution_count": 10,
   "metadata": {},
   "outputs": [
    {
     "data": {
      "text/html": [
       "<div>\n",
       "<style>\n",
       "    .dataframe thead tr:only-child th {\n",
       "        text-align: right;\n",
       "    }\n",
       "\n",
       "    .dataframe thead th {\n",
       "        text-align: left;\n",
       "    }\n",
       "\n",
       "    .dataframe tbody tr th {\n",
       "        vertical-align: top;\n",
       "    }\n",
       "</style>\n",
       "<table border=\"1\" class=\"dataframe\">\n",
       "  <thead>\n",
       "    <tr style=\"text-align: right;\">\n",
       "      <th></th>\n",
       "      <th>satisfaction_level</th>\n",
       "      <th>last_evaluation</th>\n",
       "      <th>number_project</th>\n",
       "      <th>average_montly_hours</th>\n",
       "      <th>time_spend_company</th>\n",
       "      <th>Work_accident</th>\n",
       "      <th>promotion_last_5years</th>\n",
       "    </tr>\n",
       "    <tr>\n",
       "      <th>left</th>\n",
       "      <th></th>\n",
       "      <th></th>\n",
       "      <th></th>\n",
       "      <th></th>\n",
       "      <th></th>\n",
       "      <th></th>\n",
       "      <th></th>\n",
       "    </tr>\n",
       "  </thead>\n",
       "  <tbody>\n",
       "    <tr>\n",
       "      <th>0</th>\n",
       "      <td>0.666810</td>\n",
       "      <td>0.715473</td>\n",
       "      <td>3.786664</td>\n",
       "      <td>199.060203</td>\n",
       "      <td>3.380032</td>\n",
       "      <td>0.175009</td>\n",
       "      <td>0.026251</td>\n",
       "    </tr>\n",
       "    <tr>\n",
       "      <th>1</th>\n",
       "      <td>0.440098</td>\n",
       "      <td>0.718113</td>\n",
       "      <td>3.855503</td>\n",
       "      <td>207.419210</td>\n",
       "      <td>3.876505</td>\n",
       "      <td>0.047326</td>\n",
       "      <td>0.005321</td>\n",
       "    </tr>\n",
       "  </tbody>\n",
       "</table>\n",
       "</div>"
      ],
      "text/plain": [
       "      satisfaction_level  last_evaluation  number_project  \\\n",
       "left                                                        \n",
       "0               0.666810         0.715473        3.786664   \n",
       "1               0.440098         0.718113        3.855503   \n",
       "\n",
       "      average_montly_hours  time_spend_company  Work_accident  \\\n",
       "left                                                            \n",
       "0               199.060203            3.380032       0.175009   \n",
       "1               207.419210            3.876505       0.047326   \n",
       "\n",
       "      promotion_last_5years  \n",
       "left                         \n",
       "0                  0.026251  \n",
       "1                  0.005321  "
      ]
     },
     "execution_count": 10,
     "metadata": {},
     "output_type": "execute_result"
    }
   ],
   "source": [
    "left_summary= df.groupby('left')\n",
    "left_summary.mean()\n",
    "\n",
    "#Here we are summarzing the data based on the average of each variable when an employee left and when an employee stayed."
   ]
  },
  {
   "cell_type": "code",
   "execution_count": 11,
   "metadata": {
    "scrolled": true
   },
   "outputs": [
    {
     "data": {
      "text/html": [
       "<div>\n",
       "<style>\n",
       "    .dataframe thead tr:only-child th {\n",
       "        text-align: right;\n",
       "    }\n",
       "\n",
       "    .dataframe thead th {\n",
       "        text-align: left;\n",
       "    }\n",
       "\n",
       "    .dataframe tbody tr th {\n",
       "        vertical-align: top;\n",
       "    }\n",
       "</style>\n",
       "<table border=\"1\" class=\"dataframe\">\n",
       "  <thead>\n",
       "    <tr style=\"text-align: right;\">\n",
       "      <th></th>\n",
       "      <th>Satisfaction Level</th>\n",
       "      <th>Last Evaluation</th>\n",
       "      <th>Number of Projects</th>\n",
       "      <th>Monthly Hours</th>\n",
       "      <th>Years at Company</th>\n",
       "      <th>Work Accident</th>\n",
       "      <th>Left</th>\n",
       "      <th>Promotion</th>\n",
       "    </tr>\n",
       "  </thead>\n",
       "  <tbody>\n",
       "    <tr>\n",
       "      <th>Satisfaction Level</th>\n",
       "      <td>1.000000</td>\n",
       "      <td>0.105021</td>\n",
       "      <td>-0.142970</td>\n",
       "      <td>-0.020048</td>\n",
       "      <td>-0.100866</td>\n",
       "      <td>0.058697</td>\n",
       "      <td>-0.388375</td>\n",
       "      <td>0.025605</td>\n",
       "    </tr>\n",
       "    <tr>\n",
       "      <th>Last Evaluation</th>\n",
       "      <td>0.105021</td>\n",
       "      <td>1.000000</td>\n",
       "      <td>0.349333</td>\n",
       "      <td>0.339742</td>\n",
       "      <td>0.131591</td>\n",
       "      <td>-0.007104</td>\n",
       "      <td>0.006567</td>\n",
       "      <td>-0.008684</td>\n",
       "    </tr>\n",
       "    <tr>\n",
       "      <th>Number of Projects</th>\n",
       "      <td>-0.142970</td>\n",
       "      <td>0.349333</td>\n",
       "      <td>1.000000</td>\n",
       "      <td>0.417211</td>\n",
       "      <td>0.196786</td>\n",
       "      <td>-0.004741</td>\n",
       "      <td>0.023787</td>\n",
       "      <td>-0.006064</td>\n",
       "    </tr>\n",
       "    <tr>\n",
       "      <th>Monthly Hours</th>\n",
       "      <td>-0.020048</td>\n",
       "      <td>0.339742</td>\n",
       "      <td>0.417211</td>\n",
       "      <td>1.000000</td>\n",
       "      <td>0.127755</td>\n",
       "      <td>-0.010143</td>\n",
       "      <td>0.071287</td>\n",
       "      <td>-0.003544</td>\n",
       "    </tr>\n",
       "    <tr>\n",
       "      <th>Years at Company</th>\n",
       "      <td>-0.100866</td>\n",
       "      <td>0.131591</td>\n",
       "      <td>0.196786</td>\n",
       "      <td>0.127755</td>\n",
       "      <td>1.000000</td>\n",
       "      <td>0.002120</td>\n",
       "      <td>0.144822</td>\n",
       "      <td>0.067433</td>\n",
       "    </tr>\n",
       "    <tr>\n",
       "      <th>Work Accident</th>\n",
       "      <td>0.058697</td>\n",
       "      <td>-0.007104</td>\n",
       "      <td>-0.004741</td>\n",
       "      <td>-0.010143</td>\n",
       "      <td>0.002120</td>\n",
       "      <td>1.000000</td>\n",
       "      <td>-0.154622</td>\n",
       "      <td>0.039245</td>\n",
       "    </tr>\n",
       "    <tr>\n",
       "      <th>Left</th>\n",
       "      <td>-0.388375</td>\n",
       "      <td>0.006567</td>\n",
       "      <td>0.023787</td>\n",
       "      <td>0.071287</td>\n",
       "      <td>0.144822</td>\n",
       "      <td>-0.154622</td>\n",
       "      <td>1.000000</td>\n",
       "      <td>-0.061788</td>\n",
       "    </tr>\n",
       "    <tr>\n",
       "      <th>Promotion</th>\n",
       "      <td>0.025605</td>\n",
       "      <td>-0.008684</td>\n",
       "      <td>-0.006064</td>\n",
       "      <td>-0.003544</td>\n",
       "      <td>0.067433</td>\n",
       "      <td>0.039245</td>\n",
       "      <td>-0.061788</td>\n",
       "      <td>1.000000</td>\n",
       "    </tr>\n",
       "  </tbody>\n",
       "</table>\n",
       "</div>"
      ],
      "text/plain": [
       "                    Satisfaction Level  Last Evaluation  Number of Projects  \\\n",
       "Satisfaction Level            1.000000         0.105021           -0.142970   \n",
       "Last Evaluation               0.105021         1.000000            0.349333   \n",
       "Number of Projects           -0.142970         0.349333            1.000000   \n",
       "Monthly Hours                -0.020048         0.339742            0.417211   \n",
       "Years at Company             -0.100866         0.131591            0.196786   \n",
       "Work Accident                 0.058697        -0.007104           -0.004741   \n",
       "Left                         -0.388375         0.006567            0.023787   \n",
       "Promotion                     0.025605        -0.008684           -0.006064   \n",
       "\n",
       "                    Monthly Hours  Years at Company  Work Accident      Left  \\\n",
       "Satisfaction Level      -0.020048         -0.100866       0.058697 -0.388375   \n",
       "Last Evaluation          0.339742          0.131591      -0.007104  0.006567   \n",
       "Number of Projects       0.417211          0.196786      -0.004741  0.023787   \n",
       "Monthly Hours            1.000000          0.127755      -0.010143  0.071287   \n",
       "Years at Company         0.127755          1.000000       0.002120  0.144822   \n",
       "Work Accident           -0.010143          0.002120       1.000000 -0.154622   \n",
       "Left                     0.071287          0.144822      -0.154622  1.000000   \n",
       "Promotion               -0.003544          0.067433       0.039245 -0.061788   \n",
       "\n",
       "                    Promotion  \n",
       "Satisfaction Level   0.025605  \n",
       "Last Evaluation     -0.008684  \n",
       "Number of Projects  -0.006064  \n",
       "Monthly Hours       -0.003544  \n",
       "Years at Company     0.067433  \n",
       "Work Accident        0.039245  \n",
       "Left                -0.061788  \n",
       "Promotion            1.000000  "
      ]
     },
     "execution_count": 11,
     "metadata": {},
     "output_type": "execute_result"
    }
   ],
   "source": [
    "df.columns= ['Satisfaction Level', 'Last Evaluation','Number of Projects','Monthly Hours', 'Years at Company', 'Work Accident', 'Left', 'Promotion', 'Sales', 'Salary']\n",
    "corrframe = pd.DataFrame(df.corr())\n",
    "corrframe"
   ]
  },
  {
   "cell_type": "markdown",
   "metadata": {},
   "source": [
    "We have created a new dataframe showing a matrix of the correlation between all of the variables. The column we want to focus on\n",
    "at the moment is the \"left\" row. Here we can see which values are most closely correlated, positive or negative, to an employee leaving.\n",
    "\n",
    "The Heat Map will give us a visual representation of which values are closest correlated."
   ]
  },
  {
   "cell_type": "code",
   "execution_count": 12,
   "metadata": {},
   "outputs": [
    {
     "data": {
      "text/plain": [
       "<matplotlib.text.Text at 0xbfffb345f8>"
      ]
     },
     "execution_count": 12,
     "metadata": {},
     "output_type": "execute_result"
    },
    {
     "data": {
      "image/png": "[encoded data removed]",
      "text/plain": [
       "<matplotlib.figure.Figure at 0xbff7df5198>"
      ]
     },
     "metadata": {},
     "output_type": "display_data"
    }
   ],
   "source": [
    "import seaborn as sns\n",
    "sns.heatmap(corrframe)\n",
    "sns.plt.title('Heatmap of Correlation Matrix')"
   ]
  },
  {
   "cell_type": "code",
   "execution_count": 13,
   "metadata": {},
   "outputs": [
    {
     "name": "stdout",
     "output_type": "stream",
     "text": [
      "Satisfaction Level   -0.388375\n",
      "Last Evaluation       0.006567\n",
      "Number of Projects    0.023787\n",
      "Monthly Hours         0.071287\n",
      "Years at Company      0.144822\n",
      "Work Accident        -0.154622\n",
      "Left                  1.000000\n",
      "Promotion            -0.061788\n",
      "Name: Left, dtype: float64\n"
     ]
    }
   ],
   "source": [
    "print (corrframe['Left'])"
   ]
  },
  {
   "cell_type": "markdown",
   "metadata": {},
   "source": [
    "We want to look at the absolute value of each of these values so we can see which variable has the most impact on an employee leaving regardless of whether that value is positive or negative. So we are looking for the values closest to 1 or -1.\n",
    "\"Satisfaction Level\" has the largest correlation positive or negative to employees leaving the firm. To take a closer look at the \"Satisfaction Level\" variable we want to first find out whether the variable is normally distributed."
   ]
  },
  {
   "cell_type": "code",
   "execution_count": 14,
   "metadata": {},
   "outputs": [
    {
     "data": {
      "text/plain": [
       "<matplotlib.text.Text at 0xbfffdb6ef0>"
      ]
     },
     "execution_count": 14,
     "metadata": {},
     "output_type": "execute_result"
    },
    {
     "data": {
      "image/png": "[encoded data removed]",
      "text/plain": [
       "<matplotlib.figure.Figure at 0xbfffb94be0>"
      ]
     },
     "metadata": {},
     "output_type": "display_data"
    }
   ],
   "source": [
    "satis = df['Satisfaction Level']\n",
    "plt.hist(satis, bins=20)\n",
    "plt.axvline(satis.mean(), color='b', linestyle='solid', linewidth=2)\n",
    "plt.axvline(satis.mean() + satis.std(), color='b', linestyle='dashed', linewidth=2)\n",
    "plt.axvline(satis.mean()-satis.std(), color='b', linestyle='dashed', linewidth=2)\n",
    "plt.title('Satisfaction Level of Employees Histogram')\n",
    "plt.xlabel('Satisfaction Level')\n",
    "plt.ylabel('Frequency')"
   ]
  },
  {
   "cell_type": "code",
   "execution_count": 375,
   "metadata": {
    "collapsed": true
   },
   "outputs": [],
   "source": [
    "satis_1 = sorted(satis)\n",
    "norm = np.random.normal(0, 1, 14999)\n",
    "norm_1 = sorted(norm)"
   ]
  },
  {
   "cell_type": "code",
   "execution_count": 376,
   "metadata": {},
   "outputs": [
    {
     "data": {
      "image/png": "[encoded data removed]",
      "text/plain": [
       "<matplotlib.figure.Figure at 0xdcb0553240>"
      ]
     },
     "metadata": {},
     "output_type": "display_data"
    }
   ],
   "source": [
    "plt.plot(norm_1, satis_1, \"o\") \n",
    "plt.show() "
   ]
  },
  {
   "cell_type": "code",
   "execution_count": 377,
   "metadata": {},
   "outputs": [
    {
     "data": {
      "text/plain": [
       "NormaltestResult(statistic=1200.9584504966565, pvalue=1.6412924703269606e-261)"
      ]
     },
     "execution_count": 377,
     "metadata": {},
     "output_type": "execute_result"
    }
   ],
   "source": [
    "import scipy.stats as stats\n",
    "stats.normaltes"
   ]
  },
  {
   "cell_type": "markdown",
   "metadata": {},
   "source": [
    "Taking a look at the two graphs and the p value of our Normal test we can see that the data is not normally distributed. Luckily we can use the Mann-Whitney U test to determine if our sample means came from a similar distribution. This would mean the satisfaction level does not vary between workers who left and those who stayed.\n",
    "\n",
    "From our earlier chart we can see the mean satisfaction level of employees who left was 0.440098.\n",
    "The mean satisfaction level of employees who stayed was 0.666810."
   ]
  },
  {
   "cell_type": "code",
   "execution_count": 15,
   "metadata": {},
   "outputs": [
    {
     "data": {
      "text/plain": [
       "MannwhitneyuResult(statistic=10286473.0, pvalue=0.0)"
      ]
     },
     "execution_count": 15,
     "metadata": {},
     "output_type": "execute_result"
    }
   ],
   "source": [
    "\n",
    "satis_left = df[df['Left']==1]['Satisfaction Level']\n",
    "satis_stay = df[df['Left']==0]['Satisfaction Level']\n",
    "\n",
    "scipy.stats.mannwhitneyu(satis_left,satis_stay)"
   ]
  },
  {
   "cell_type": "markdown",
   "metadata": {},
   "source": [
    "Looking at our extremely low p value we can conclude these two means do not come from the same distribution, meaning that satisfaction level does indeed vary between employees who left and those who stayed. Combining this test with our correlation matrix, and heat map, we can conclude satisfaction level is the best predictor of whether an employee will stay or not. We will discuss how the company can use this information to prevent employees from staying later in the report."
   ]
  },
  {
   "cell_type": "markdown",
   "metadata": {},
   "source": [
    "## 2. Can the company allocate more money to salary to entice employees to stay?"
   ]
  },
  {
   "cell_type": "code",
   "execution_count": 23,
   "metadata": {},
   "outputs": [
    {
     "name": "stdout",
     "output_type": "stream",
     "text": [
      "{'medium', 'low', 'high'}\n"
     ]
    }
   ],
   "source": [
    "\n",
    "salary = df['Salary']\n",
    "x = set(salary)\n",
    "print (x)"
   ]
  },
  {
   "cell_type": "code",
   "execution_count": 79,
   "metadata": {},
   "outputs": [
    {
     "data": {
      "text/plain": [
       "Counter({'high': 1237, 'low': 7316, 'medium': 6446})"
      ]
     },
     "execution_count": 79,
     "metadata": {},
     "output_type": "execute_result"
    }
   ],
   "source": [
    "from collections import Counter\n",
    "Counter(salary)\n",
    "#There are 1237 instances of a high salary, 7316 instances of a low salary, and 6446 instances of a medium salary.\n"
   ]
  },
  {
   "cell_type": "code",
   "execution_count": 236,
   "metadata": {},
   "outputs": [
    {
     "data": {
      "text/plain": [
       "<matplotlib.text.Text at 0xdcaec44438>"
      ]
     },
     "execution_count": 236,
     "metadata": {},
     "output_type": "execute_result"
    },
    {
     "data": {
      "image/png": "[encoded data removed]",
      "text/plain": [
       "<matplotlib.figure.Figure at 0xdcaffd9978>"
      ]
     },
     "metadata": {},
     "output_type": "display_data"
    }
   ],
   "source": [
    "new_sal = [7316, 6446, 1237]\n",
    "objects = ('Low', 'Medium','High')\n",
    "y_pos = np.arange(len(objects))\n",
    "plt.bar(y_pos, new_sal, align='center', alpha=0.5)\n",
    "plt.xticks(y_pos, objects)\n",
    "plt.ylabel('Employees')\n",
    "plt.xlabel('Salary')\n",
    "plt.title('Employee Salaries')"
   ]
  },
  {
   "cell_type": "markdown",
   "metadata": {},
   "source": [
    "We Have a bar chart showing the number from the table above. To get meaningful information from this chart we need to add the\n",
    "amount of employees who left the company from each salary point."
   ]
  },
  {
   "cell_type": "code",
   "execution_count": 299,
   "metadata": {},
   "outputs": [
    {
     "data": {
      "text/plain": [
       "satisfaction_level       2172\n",
       "last_evaluation          2172\n",
       "number_project           2172\n",
       "average_montly_hours     2172\n",
       "time_spend_company       2172\n",
       "Work_accident            2172\n",
       "left                     2172\n",
       "promotion_last_5years    2172\n",
       "sales                    2172\n",
       "salary                   2172\n",
       "dtype: int64"
      ]
     },
     "execution_count": 299,
     "metadata": {},
     "output_type": "execute_result"
    }
   ],
   "source": [
    "sal_low = df[(df['left']==1) & (df['salary']=='low')]\n",
    "sal_low.count()"
   ]
  },
  {
   "cell_type": "code",
   "execution_count": 298,
   "metadata": {},
   "outputs": [
    {
     "data": {
      "text/plain": [
       "satisfaction_level       1317\n",
       "last_evaluation          1317\n",
       "number_project           1317\n",
       "average_montly_hours     1317\n",
       "time_spend_company       1317\n",
       "Work_accident            1317\n",
       "left                     1317\n",
       "promotion_last_5years    1317\n",
       "sales                    1317\n",
       "salary                   1317\n",
       "dtype: int64"
      ]
     },
     "execution_count": 298,
     "metadata": {},
     "output_type": "execute_result"
    }
   ],
   "source": [
    "sal_med = df[(df['left']==1) & (df['salary']=='medium')]\n",
    "sal_med.count()"
   ]
  },
  {
   "cell_type": "code",
   "execution_count": 293,
   "metadata": {},
   "outputs": [
    {
     "data": {
      "text/plain": [
       "satisfaction_level       82\n",
       "last_evaluation          82\n",
       "number_project           82\n",
       "average_montly_hours     82\n",
       "time_spend_company       82\n",
       "Work_accident            82\n",
       "left                     82\n",
       "promotion_last_5years    82\n",
       "sales                    82\n",
       "salary                   82\n",
       "dtype: int64"
      ]
     },
     "execution_count": 293,
     "metadata": {},
     "output_type": "execute_result"
    }
   ],
   "source": [
    "sal_high =df[(df['left']==1) & (df['salary']=='high')]\n",
    "sal_high.count()"
   ]
  },
  {
   "cell_type": "code",
   "execution_count": 110,
   "metadata": {},
   "outputs": [
    {
     "data": {
      "text/plain": [
       "<matplotlib.legend.Legend at 0xbf828baa58>"
      ]
     },
     "execution_count": 110,
     "metadata": {},
     "output_type": "execute_result"
    },
    {
     "data": {
      "image/png": "[encoded data removed]",
      "text/plain": [
       "<matplotlib.figure.Figure at 0xbf828b75c0>"
      ]
     },
     "metadata": {},
     "output_type": "display_data"
    }
   ],
   "source": [
    "#Now we can see how many employees left the company from each salary point.\n",
    "import matplotlib.patches as mpatches\n",
    "sal_left =[2172,1317,82]\n",
    "sal_stayed =[(7316-2172),(6446-1317),(1237-82)]\n",
    "objects = ('Low', 'Medium','High')\n",
    "y_pos =np.arange(len(objects))\n",
    "plt.bar(y_pos, sal_stayed, align='center', alpha=0.5, width=.3, color='b', label= 'Stayed With Company')\n",
    "plt.bar(y_pos+.3, sal_left, align='center', alpha=0.5, width=.3, color ='r', label='Left Company')\n",
    "plt.xticks(y_pos, objects)\n",
    "plt.ylabel('Employees')\n",
    "plt.xlabel('Salary')\n",
    "plt.title('Employee Salaries')\n",
    "red = mpatches.Patch(color='r', label='Left')\n",
    "blue = mpatches.Patch(color='b', label='Stayed')\n",
    "plt.legend(handles=[red, blue])"
   ]
  },
  {
   "cell_type": "code",
   "execution_count": 337,
   "metadata": {},
   "outputs": [
    {
     "data": {
      "image/png": "[encoded data removed]",
      "text/plain": [
       "<matplotlib.figure.Figure at 0xdcb0e2df60>"
      ]
     },
     "metadata": {},
     "output_type": "display_data"
    }
   ],
   "source": [
    "labels = 'Low', 'Medium', 'High'\n",
    "sizes =[2172,1317,82]\n",
    "colors = ['gold', 'yellowgreen', 'lightcoral', ]\n",
    "explode = (0, 0, 0.0) \n",
    "plt.pie(sizes, explode=explode, labels=labels, colors=colors,\n",
    "        autopct='%1.1f%%', startangle=360)\n",
    " \n",
    "plt.axis('equal')\n",
    "plt.title('Salaries of Employees Who Left Company')\n",
    "plt.tight_layout()\n",
    "plt.show()"
   ]
  },
  {
   "cell_type": "markdown",
   "metadata": {},
   "source": [
    "From the charts in this section we can tell a number of things about the salary of the employees of the company. The pie chart shows us that an extremely small percentage of employees who earned a high salary ended up leaving the company (2.3%). From the bar chart we know this number is only 82 of the 15000 employees who were surveyed.\n",
    "\n",
    "We can also see that the number of employees who receive both low and medium salaries are relatively similar, however those with low salaries tend to leave the company more often (as the pie chart clearly dictates.) \n",
    "\n",
    "Based on this information we can reasonably state that if the company allocated more money to salaries they would see a decrease in employee turnover. Employees are less likely to leave receiving a medium salary rather than a low one, and only in very rare circumstances leave while receiving a high salary."
   ]
  },
  {
   "cell_type": "markdown",
   "metadata": {},
   "source": [
    "## 3. What can the company do preemptively while hiring an employee to help prevent said employee from leaving? \n",
    "\n",
    "To being to answer this question is important that we begin to analyze the other variables in the data set to see which other factors lead to employees leaving."
   ]
  },
  {
   "cell_type": "code",
   "execution_count": 164,
   "metadata": {},
   "outputs": [
    {
     "data": {
      "image/png": "[encoded data removed]",
      "text/plain": [
       "<matplotlib.figure.Figure at 0xbf824d3630>"
      ]
     },
     "metadata": {},
     "output_type": "display_data"
    },
    {
     "data": {
      "text/plain": [
       "207.41921030523662"
      ]
     },
     "execution_count": 164,
     "metadata": {},
     "output_type": "execute_result"
    }
   ],
   "source": [
    "x= df[df['Left']==1]['Monthly Hours']\n",
    "y= df[df['Left']==0]['Monthly Hours']\n",
    "hours_left=sorted(x)\n",
    "random_hours_stay = y.sample(n=3571)\n",
    "hours_stay=sorted(random_hours_stay)\n",
    "plt.plot(hours_left,\"b\") \n",
    "plt.plot(hours_stay,\"r\") \n",
    "red = mpatches.Patch(color='b', label='Left')\n",
    "blue = mpatches.Patch(color='r', label='Stayed')\n",
    "plt.legend(handles=[blue, red])\n",
    "plt.title('Monthly Hours Worked of Employees')\n",
    "plt.show() \n",
    "\n",
    "x.mean()"
   ]
  },
  {
   "cell_type": "code",
   "execution_count": 165,
   "metadata": {},
   "outputs": [
    {
     "data": {
      "text/plain": [
       "198.22038644637357"
      ]
     },
     "execution_count": 165,
     "metadata": {},
     "output_type": "execute_result"
    }
   ],
   "source": [
    "random_hours_stay.mean()"
   ]
  },
  {
   "cell_type": "markdown",
   "metadata": {},
   "source": [
    "Our line graph shows us the monthly hours worked of some of the employees in our company. The blue line represents all the employees who decided to leave the company, while the red line represents a random sample of about 3500 employees who stayed with the company. As the line graph shows, and the mean of our data represents, employees who leave the company work on average 8 hours more than those who stay. Does this mean the company should cut hours to prevent turnover? If we look at our correlation matrix from above we can see a number of only .07 returned correlating the two variables. But how does it compare to satisfaction level, our best determining factor of turnover? Again if we consult our correlation matrix we see a number of -.02 between hours worked and employee satisfaction. Looking at all these factors we can make the reasonable conclusion that hours is not an overwhelming factor in determining employee turnover."
   ]
  },
  {
   "cell_type": "code",
   "execution_count": 77,
   "metadata": {},
   "outputs": [],
   "source": [
    "a= df[df['Left']==0]['Number of Projects']\n",
    "b= df[df['Left']==1]['Number of Projects']"
   ]
  },
  {
   "cell_type": "markdown",
   "metadata": {},
   "source": [
    "Next we are going to look at the number of projects each employee participated in. To do this first we make two new data sets, one for employees who left and one for those who stayed."
   ]
  },
  {
   "cell_type": "code",
   "execution_count": 169,
   "metadata": {},
   "outputs": [
    {
     "data": {
      "text/plain": [
       "Counter({2: 1567, 3: 72, 4: 409, 5: 612, 6: 655, 7: 256})"
      ]
     },
     "execution_count": 169,
     "metadata": {},
     "output_type": "execute_result"
    }
   ],
   "source": [
    "Counter(b)"
   ]
  },
  {
   "cell_type": "code",
   "execution_count": 82,
   "metadata": {},
   "outputs": [
    {
     "data": {
      "text/plain": [
       "Counter({2: 256, 3: 1222, 4: 1265, 5: 668, 6: 160})"
      ]
     },
     "execution_count": 82,
     "metadata": {},
     "output_type": "execute_result"
    }
   ],
   "source": [
    "random_projects_stay= a.sample(n=3571)\n",
    "Counter(random_projects_stay)"
   ]
  },
  {
   "cell_type": "markdown",
   "metadata": {},
   "source": [
    "Here again we are taking a random sample of employees who stayed with the company so we will have an equal comparison to those who left."
   ]
  },
  {
   "cell_type": "code",
   "execution_count": 103,
   "metadata": {},
   "outputs": [
    {
     "data": {
      "text/plain": [
       "<matplotlib.legend.Legend at 0xbf822a0978>"
      ]
     },
     "execution_count": 103,
     "metadata": {},
     "output_type": "execute_result"
    },
    {
     "data": {
      "image/png": "[encoded data removed]",
      "text/plain": [
       "<matplotlib.figure.Figure at 0xbf82828f60>"
      ]
     },
     "metadata": {},
     "output_type": "display_data"
    }
   ],
   "source": [
    "fig, ax = plt.subplots()\n",
    "width = .4\n",
    "projects = {2,3,4,5,6,7,}\n",
    "y_pos = np.arange(len(projects))\n",
    "employees = [256,1222,1265,668,160,0]\n",
    "p1= ax.barh(y_pos, employees, width, align='center', \n",
    "        color='green')\n",
    "ax.set_yticks(y_pos)\n",
    "ax.invert_yaxis()  \n",
    "ax.set_yticklabels(projects)\n",
    "ax.set_xlabel('Employees')\n",
    "ax.set_ylabel('Projects')\n",
    "ax.set_title('Employee Turnover by Project Number')\n",
    "employees2= [1567,72,409,612,655,256]\n",
    "p2=ax.barh(y_pos+width,employees2, width, align='center', color= 'red')\n",
    "ax.legend((p1[0], p2[0]), ('Stayed', 'Left'))\n"
   ]
  },
  {
   "cell_type": "markdown",
   "metadata": {},
   "source": [
    "This graph shows us the number of projects each employee undertook. A number of things here are worth discusinng. First employees who received an extremely low or an extremely high number of projects were much more likely to leave. To look at this further let's look at the histograms of each distribution individually."
   ]
  },
  {
   "cell_type": "code",
   "execution_count": 176,
   "metadata": {},
   "outputs": [
    {
     "data": {
      "text/plain": [
       "<matplotlib.text.Text at 0xbffff134a8>"
      ]
     },
     "execution_count": 176,
     "metadata": {},
     "output_type": "execute_result"
    },
    {
     "data": {
      "image/png": "[encoded data removed]",
      "text/plain": [
       "<matplotlib.figure.Figure at 0xbf829d36d8>"
      ]
     },
     "metadata": {},
     "output_type": "display_data"
    }
   ],
   "source": [
    "plt.hist(b, bins=6)\n",
    "plt.axvline(b.mean(), color='b', linestyle='solid', linewidth=2)\n",
    "plt.axvline(b.mean() + b.std(), color='b', linestyle='dashed', linewidth=2)\n",
    "plt.axvline(b.mean()-b.std(), color='b', linestyle='dashed', linewidth=2)\n",
    "plt.title('Projects of Employees Who Left')\n",
    "plt.xlabel('Projects')\n",
    "plt.ylabel('Frequency')"
   ]
  },
  {
   "cell_type": "code",
   "execution_count": 177,
   "metadata": {},
   "outputs": [
    {
     "data": {
      "text/plain": [
       "<matplotlib.text.Text at 0xbf829974a8>"
      ]
     },
     "execution_count": 177,
     "metadata": {},
     "output_type": "execute_result"
    },
    {
     "data": {
      "image/png": "[encoded data removed]",
      "text/plain": [
       "<matplotlib.figure.Figure at 0xbf8102fda0>"
      ]
     },
     "metadata": {},
     "output_type": "display_data"
    }
   ],
   "source": [
    "plt.hist(random_projects_stay, bins=5)\n",
    "plt.axvline(random_projects_stay.mean(), color='b', linestyle='solid', linewidth=2)\n",
    "plt.axvline(random_projects_stay.mean() + random_projects_stay.std(), color='b', linestyle='dashed', linewidth=2)\n",
    "plt.axvline(random_projects_stay.mean()-random_projects_stay.std(), color='b', linestyle='dashed', linewidth=2)\n",
    "plt.title('Projects of Employees Who Stayed')\n",
    "plt.xlabel('Projects')\n",
    "plt.ylabel('Frequency')"
   ]
  },
  {
   "cell_type": "markdown",
   "metadata": {},
   "source": [
    "The employees who stayed have a much more normal distribution with most employees taking on anywhere between 3-5 projects. However, if we look at the histogram of those who left we can see many employees undertook only 2 or 6-7 projects. This is very valuable information for the company. We can assume many of the employees who left felt they were being either underworked or overworked due to project number. \n",
    "\n",
    "Finally, let's have a look at how promotion affects employee turnover."
   ]
  },
  {
   "cell_type": "code",
   "execution_count": 147,
   "metadata": {},
   "outputs": [
    {
     "data": {
      "text/plain": [
       "Counter({0: 3552, 1: 19})"
      ]
     },
     "execution_count": 147,
     "metadata": {},
     "output_type": "execute_result"
    }
   ],
   "source": [
    "c = df[df['Left']==0]['Promotion']\n",
    "d = df[df['Left']==1]['Promotion']\n",
    "Counter (d)"
   ]
  },
  {
   "cell_type": "code",
   "execution_count": 146,
   "metadata": {},
   "outputs": [
    {
     "data": {
      "text/plain": [
       "Counter({0: 11128, 1: 300})"
      ]
     },
     "execution_count": 146,
     "metadata": {},
     "output_type": "execute_result"
    }
   ],
   "source": [
    "Counter(c)"
   ]
  },
  {
   "cell_type": "code",
   "execution_count": 153,
   "metadata": {},
   "outputs": [
    {
     "data": {
      "image/png": "[encoded data removed]",
      "text/plain": [
       "<matplotlib.figure.Figure at 0xbf84bc6390>"
      ]
     },
     "metadata": {},
     "output_type": "display_data"
    }
   ],
   "source": [
    "labels = 'Left Promotion', 'Stay Promotion', 'Left No Promotion', 'Stay No Promotion'\n",
    "sizes =[19,300,3552,11128]\n",
    "colors = ['red', 'yellow', 'green','blue'] \n",
    "explode = (1, 1, 0, 0) \n",
    "plt.pie(sizes,labels=labels, explode=explode, colors=colors,\n",
    "        autopct='%1.1f%%', startangle=360)\n",
    " \n",
    "plt.axis('equal')\n",
    "plt.title('Employee Turnover and Promotions')\n",
    "plt.tight_layout()\n",
    "plt.show()\n"
   ]
  },
  {
   "cell_type": "markdown",
   "metadata": {},
   "source": [
    "This pie chart take into consideration all the employees of the company and shows us how many left, how many stayed, and whether or not they received a promotion.As one can see promotions as a whole are pretty rare within the company with only 2.1 percent of employees being promoted at all. This doesn't help us determine whether employees are more likely to stay so let's look at the percent of employees who left who were promoted and those who weren't."
   ]
  },
  {
   "cell_type": "code",
   "execution_count": 154,
   "metadata": {},
   "outputs": [],
   "source": [
    "received_promotion_left= 19/319\n",
    "no_promotion_left= 3552/(3552+11128)"
   ]
  },
  {
   "cell_type": "code",
   "execution_count": 156,
   "metadata": {},
   "outputs": [
    {
     "name": "stdout",
     "output_type": "stream",
     "text": [
      "0.05956112852664577\n"
     ]
    }
   ],
   "source": [
    "print (received_promotion_left)"
   ]
  },
  {
   "cell_type": "code",
   "execution_count": 157,
   "metadata": {},
   "outputs": [
    {
     "name": "stdout",
     "output_type": "stream",
     "text": [
      "0.24196185286103541\n"
     ]
    }
   ],
   "source": [
    "print (no_promotion_left)"
   ]
  },
  {
   "cell_type": "markdown",
   "metadata": {},
   "source": [
    "By looking at the percentages one can see that only 6% of employees who received a promotion ended up leaving the company while 24% of employees who didn't receive a promotion ended up leaving. Although this information may seem significant if we look at our correlation matrix we will find that promotions have similar values to hours worked. Promoting an employee is also such a rare occurence within this company, that drastically increasing the number of promotions could have an unexpected impact on the numbers."
   ]
  },
  {
   "cell_type": "markdown",
   "metadata": {},
   "source": [
    "## In Conclusion"
   ]
  },
  {
   "cell_type": "markdown",
   "metadata": {},
   "source": [
    "This company is very dependent on employee satisfaction in relations to turnover. As our heatmap and correlation matrix showed this is by far the most predictative variable in determining if an employee stays. Quite simply if an employee is happy they are less likely to leave. By taking a look at the satisfaction level of all the employees who left and who didn't we were able to reject our null hypothesis that both sets of data came from the same distribution. Thus finding that satisfaction level did indeed have a noticable effect on turnover.\n",
    "\n",
    "Next, we wanted to take a look at salary and see if it was possible for the company to add more money to payroll to keep employees from leaving. As one might predict very few employees with high salaries are leaving. Employees with medium salaries are leaving at a lesser rate than those with low salaries. We can safely make the conclusion that raising salaries with certain employees would help to decrease turnover.\n",
    "\n",
    "Finally, we wanted to look at what a company can do to preemptively curb turnover when hiring an employee. By assigning projects in the range of 3-5 rather than 2,6, or 7 the company can keep employees. Employees with extreme project number (whether low or high) are much more likely to leave. "
   ]
  },
  {
   "cell_type": "code",
   "execution_count": null,
   "metadata": {
    "collapsed": true
   },
   "outputs": [],
   "source": []
  }
 ],
 "metadata": {
  "kernelspec": {
   "display_name": "Python 3",
   "language": "python",
   "name": "python3"
  },
  "language_info": {
   "codemirror_mode": {
    "name": "ipython",
    "version": 3
   },
   "file_extension": ".py",
   "mimetype": "text/x-python",
   "name": "python",
   "nbconvert_exporter": "python",
   "pygments_lexer": "ipython3",
   "version": "3.6.1"
  }
 },
 "nbformat": 4,
 "nbformat_minor": 2
}
