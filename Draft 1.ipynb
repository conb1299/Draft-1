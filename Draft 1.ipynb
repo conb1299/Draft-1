{
 "cells": [
  {
   "cell_type": "markdown",
   "metadata": {},
   "source": [
    "# Employee Turnover Analysis\n",
    " \n"
   ]
  },
  {
   "cell_type": "code",
   "execution_count": 218,
   "metadata": {},
   "outputs": [],
   "source": [
    "import pandas as pd\n",
    "import scipy\n",
    "import matplotlib.pyplot as plt\n",
    "%matplotlib inline"
   ]
  },
  {
   "cell_type": "code",
   "execution_count": 365,
   "metadata": {},
   "outputs": [
    {
     "name": "stdout",
     "output_type": "stream",
     "text": [
      "       satisfaction_level  last_evaluation  number_project  \\\n",
      "0                    0.38             0.53               2   \n",
      "1                    0.80             0.86               5   \n",
      "2                    0.11             0.88               7   \n",
      "3                    0.72             0.87               5   \n",
      "4                    0.37             0.52               2   \n",
      "5                    0.41             0.50               2   \n",
      "6                    0.10             0.77               6   \n",
      "7                    0.92             0.85               5   \n",
      "8                    0.89             1.00               5   \n",
      "9                    0.42             0.53               2   \n",
      "10                   0.45             0.54               2   \n",
      "11                   0.11             0.81               6   \n",
      "12                   0.84             0.92               4   \n",
      "13                   0.41             0.55               2   \n",
      "14                   0.36             0.56               2   \n",
      "15                   0.38             0.54               2   \n",
      "16                   0.45             0.47               2   \n",
      "17                   0.78             0.99               4   \n",
      "18                   0.45             0.51               2   \n",
      "19                   0.76             0.89               5   \n",
      "20                   0.11             0.83               6   \n",
      "21                   0.38             0.55               2   \n",
      "22                   0.09             0.95               6   \n",
      "23                   0.46             0.57               2   \n",
      "24                   0.40             0.53               2   \n",
      "25                   0.89             0.92               5   \n",
      "26                   0.82             0.87               4   \n",
      "27                   0.40             0.49               2   \n",
      "28                   0.41             0.46               2   \n",
      "29                   0.38             0.50               2   \n",
      "...                   ...              ...             ...   \n",
      "14969                0.43             0.46               2   \n",
      "14970                0.78             0.93               4   \n",
      "14971                0.39             0.45               2   \n",
      "14972                0.11             0.97               6   \n",
      "14973                0.36             0.52               2   \n",
      "14974                0.36             0.54               2   \n",
      "14975                0.10             0.79               7   \n",
      "14976                0.40             0.47               2   \n",
      "14977                0.81             0.85               4   \n",
      "14978                0.40             0.47               2   \n",
      "14979                0.09             0.93               6   \n",
      "14980                0.76             0.89               5   \n",
      "14981                0.73             0.93               5   \n",
      "14982                0.38             0.49               2   \n",
      "14983                0.72             0.84               5   \n",
      "14984                0.40             0.56               2   \n",
      "14985                0.91             0.99               5   \n",
      "14986                0.85             0.85               4   \n",
      "14987                0.90             0.70               5   \n",
      "14988                0.46             0.55               2   \n",
      "14989                0.43             0.57               2   \n",
      "14990                0.89             0.88               5   \n",
      "14991                0.09             0.81               6   \n",
      "14992                0.40             0.48               2   \n",
      "14993                0.76             0.83               6   \n",
      "14994                0.40             0.57               2   \n",
      "14995                0.37             0.48               2   \n",
      "14996                0.37             0.53               2   \n",
      "14997                0.11             0.96               6   \n",
      "14998                0.37             0.52               2   \n",
      "\n",
      "       average_montly_hours  time_spend_company  Work_accident  left  \\\n",
      "0                       157                   3              0     1   \n",
      "1                       262                   6              0     1   \n",
      "2                       272                   4              0     1   \n",
      "3                       223                   5              0     1   \n",
      "4                       159                   3              0     1   \n",
      "5                       153                   3              0     1   \n",
      "6                       247                   4              0     1   \n",
      "7                       259                   5              0     1   \n",
      "8                       224                   5              0     1   \n",
      "9                       142                   3              0     1   \n",
      "10                      135                   3              0     1   \n",
      "11                      305                   4              0     1   \n",
      "12                      234                   5              0     1   \n",
      "13                      148                   3              0     1   \n",
      "14                      137                   3              0     1   \n",
      "15                      143                   3              0     1   \n",
      "16                      160                   3              0     1   \n",
      "17                      255                   6              0     1   \n",
      "18                      160                   3              1     1   \n",
      "19                      262                   5              0     1   \n",
      "20                      282                   4              0     1   \n",
      "21                      147                   3              0     1   \n",
      "22                      304                   4              0     1   \n",
      "23                      139                   3              0     1   \n",
      "24                      158                   3              0     1   \n",
      "25                      242                   5              0     1   \n",
      "26                      239                   5              0     1   \n",
      "27                      135                   3              0     1   \n",
      "28                      128                   3              0     1   \n",
      "29                      132                   3              0     1   \n",
      "...                     ...                 ...            ...   ...   \n",
      "14969                   157                   3              0     1   \n",
      "14970                   225                   5              0     1   \n",
      "14971                   140                   3              0     1   \n",
      "14972                   310                   4              0     1   \n",
      "14973                   143                   3              0     1   \n",
      "14974                   153                   3              0     1   \n",
      "14975                   310                   4              0     1   \n",
      "14976                   136                   3              0     1   \n",
      "14977                   251                   6              0     1   \n",
      "14978                   144                   3              0     1   \n",
      "14979                   296                   4              0     1   \n",
      "14980                   238                   5              0     1   \n",
      "14981                   162                   4              0     1   \n",
      "14982                   137                   3              0     1   \n",
      "14983                   257                   5              0     1   \n",
      "14984                   148                   3              0     1   \n",
      "14985                   254                   5              0     1   \n",
      "14986                   247                   6              0     1   \n",
      "14987                   206                   4              0     1   \n",
      "14988                   145                   3              0     1   \n",
      "14989                   159                   3              1     1   \n",
      "14990                   228                   5              1     1   \n",
      "14991                   257                   4              0     1   \n",
      "14992                   155                   3              0     1   \n",
      "14993                   293                   6              0     1   \n",
      "14994                   151                   3              0     1   \n",
      "14995                   160                   3              0     1   \n",
      "14996                   143                   3              0     1   \n",
      "14997                   280                   4              0     1   \n",
      "14998                   158                   3              0     1   \n",
      "\n",
      "       promotion_last_5years       sales  salary  \n",
      "0                          0       sales     low  \n",
      "1                          0       sales  medium  \n",
      "2                          0       sales  medium  \n",
      "3                          0       sales     low  \n",
      "4                          0       sales     low  \n",
      "5                          0       sales     low  \n",
      "6                          0       sales     low  \n",
      "7                          0       sales     low  \n",
      "8                          0       sales     low  \n",
      "9                          0       sales     low  \n",
      "10                         0       sales     low  \n",
      "11                         0       sales     low  \n",
      "12                         0       sales     low  \n",
      "13                         0       sales     low  \n",
      "14                         0       sales     low  \n",
      "15                         0       sales     low  \n",
      "16                         0       sales     low  \n",
      "17                         0       sales     low  \n",
      "18                         1       sales     low  \n",
      "19                         0       sales     low  \n",
      "20                         0       sales     low  \n",
      "21                         0       sales     low  \n",
      "22                         0       sales     low  \n",
      "23                         0       sales     low  \n",
      "24                         0       sales     low  \n",
      "25                         0       sales     low  \n",
      "26                         0       sales     low  \n",
      "27                         0       sales     low  \n",
      "28                         0  accounting     low  \n",
      "29                         0  accounting     low  \n",
      "...                      ...         ...     ...  \n",
      "14969                      0       sales  medium  \n",
      "14970                      0       sales  medium  \n",
      "14971                      0       sales  medium  \n",
      "14972                      0  accounting  medium  \n",
      "14973                      0  accounting  medium  \n",
      "14974                      0  accounting  medium  \n",
      "14975                      0          hr  medium  \n",
      "14976                      0          hr  medium  \n",
      "14977                      0          hr  medium  \n",
      "14978                      0          hr  medium  \n",
      "14979                      0   technical  medium  \n",
      "14980                      0   technical    high  \n",
      "14981                      0   technical     low  \n",
      "14982                      0   technical  medium  \n",
      "14983                      0   technical  medium  \n",
      "14984                      0   technical  medium  \n",
      "14985                      0   technical  medium  \n",
      "14986                      0   technical     low  \n",
      "14987                      0   technical     low  \n",
      "14988                      0   technical     low  \n",
      "14989                      0   technical     low  \n",
      "14990                      0     support     low  \n",
      "14991                      0     support     low  \n",
      "14992                      0     support     low  \n",
      "14993                      0     support     low  \n",
      "14994                      0     support     low  \n",
      "14995                      0     support     low  \n",
      "14996                      0     support     low  \n",
      "14997                      0     support     low  \n",
      "14998                      0     support     low  \n",
      "\n",
      "[14999 rows x 10 columns]\n"
     ]
    }
   ],
   "source": [
    "df = pd.read_csv('Human_Resources.csv')\n",
    ">>> print(df)\n"
   ]
  },
  {
   "cell_type": "markdown",
   "metadata": {},
   "source": [
    "This dataframe shows us a list of employees from a specific company and variables describing their time there.\n",
    "We want to look at the rate of turnover of the employees and answer a few questions to help the company moving foward.\n",
    "### First we want to identify which factor is most predictive of an employee leaving?\n",
    "\n",
    "### Next,can the company allocate more money to their employees to help entice them to stay? \n",
    "\n",
    "### Lastly, what can the company do preemptively while hiring an employee to help prevent said employee from leaving? \n",
    "By looking at the data we can come to some conclusions that should help the company dealing with their turnover problem."
   ]
  },
  {
   "cell_type": "markdown",
   "metadata": {},
   "source": [
    "## 1. Which factor is most predictative of an employee leaving?"
   ]
  },
  {
   "cell_type": "code",
   "execution_count": 20,
   "metadata": {
    "scrolled": true
   },
   "outputs": [
    {
     "data": {
      "text/plain": [
       "['satisfaction_level',\n",
       " 'last_evaluation',\n",
       " 'number_project',\n",
       " 'average_montly_hours',\n",
       " 'time_spend_company',\n",
       " 'Work_accident',\n",
       " 'left',\n",
       " 'promotion_last_5years',\n",
       " 'sales',\n",
       " 'salary']"
      ]
     },
     "execution_count": 20,
     "metadata": {},
     "output_type": "execute_result"
    }
   ],
   "source": [
    "list(df)\n",
    "#Listing the list of variables which are represented in the dataset. "
   ]
  },
  {
   "cell_type": "markdown",
   "metadata": {},
   "source": [
    "By listing all the variables in the dataset we can see which factors we will be looking at."
   ]
  },
  {
   "cell_type": "code",
   "execution_count": 24,
   "metadata": {},
   "outputs": [
    {
     "data": {
      "text/plain": [
       "0.2380825388359224"
      ]
     },
     "execution_count": 24,
     "metadata": {},
     "output_type": "execute_result"
    }
   ],
   "source": [
    "df['left'].mean()"
   ]
  },
  {
   "cell_type": "markdown",
   "metadata": {},
   "source": [
    "The column 'left' has an integer value to represent whether or not the employee left the company with 1 indicating they did\n",
    "and 0 indicating they did not. Taking the mean of this data we can see 23% of employees did indeed leave the company.\n"
   ]
  },
  {
   "cell_type": "code",
   "execution_count": 131,
   "metadata": {},
   "outputs": [
    {
     "data": {
      "text/html": [
       "<div>\n",
       "<style>\n",
       "    .dataframe thead tr:only-child th {\n",
       "        text-align: right;\n",
       "    }\n",
       "\n",
       "    .dataframe thead th {\n",
       "        text-align: left;\n",
       "    }\n",
       "\n",
       "    .dataframe tbody tr th {\n",
       "        vertical-align: top;\n",
       "    }\n",
       "</style>\n",
       "<table border=\"1\" class=\"dataframe\">\n",
       "  <thead>\n",
       "    <tr style=\"text-align: right;\">\n",
       "      <th></th>\n",
       "      <th>satisfaction_level</th>\n",
       "      <th>last_evaluation</th>\n",
       "      <th>number_project</th>\n",
       "      <th>average_montly_hours</th>\n",
       "      <th>time_spend_company</th>\n",
       "      <th>Work_accident</th>\n",
       "      <th>promotion_last_5years</th>\n",
       "    </tr>\n",
       "    <tr>\n",
       "      <th>left</th>\n",
       "      <th></th>\n",
       "      <th></th>\n",
       "      <th></th>\n",
       "      <th></th>\n",
       "      <th></th>\n",
       "      <th></th>\n",
       "      <th></th>\n",
       "    </tr>\n",
       "  </thead>\n",
       "  <tbody>\n",
       "    <tr>\n",
       "      <th>0</th>\n",
       "      <td>0.666810</td>\n",
       "      <td>0.715473</td>\n",
       "      <td>3.786664</td>\n",
       "      <td>199.060203</td>\n",
       "      <td>3.380032</td>\n",
       "      <td>0.175009</td>\n",
       "      <td>0.026251</td>\n",
       "    </tr>\n",
       "    <tr>\n",
       "      <th>1</th>\n",
       "      <td>0.440098</td>\n",
       "      <td>0.718113</td>\n",
       "      <td>3.855503</td>\n",
       "      <td>207.419210</td>\n",
       "      <td>3.876505</td>\n",
       "      <td>0.047326</td>\n",
       "      <td>0.005321</td>\n",
       "    </tr>\n",
       "  </tbody>\n",
       "</table>\n",
       "</div>"
      ],
      "text/plain": [
       "      satisfaction_level  last_evaluation  number_project  \\\n",
       "left                                                        \n",
       "0               0.666810         0.715473        3.786664   \n",
       "1               0.440098         0.718113        3.855503   \n",
       "\n",
       "      average_montly_hours  time_spend_company  Work_accident  \\\n",
       "left                                                            \n",
       "0               199.060203            3.380032       0.175009   \n",
       "1               207.419210            3.876505       0.047326   \n",
       "\n",
       "      promotion_last_5years  \n",
       "left                         \n",
       "0                  0.026251  \n",
       "1                  0.005321  "
      ]
     },
     "execution_count": 131,
     "metadata": {},
     "output_type": "execute_result"
    }
   ],
   "source": [
    "left_summary= df.groupby('left')\n",
    "left_summary.mean()\n",
    "\n",
    "#Here we are summarzing the data based on the average of each variable when an employee left and when an employee stayed."
   ]
  },
  {
   "cell_type": "code",
   "execution_count": 369,
   "metadata": {
    "scrolled": true
   },
   "outputs": [
    {
     "data": {
      "text/html": [
       "<div>\n",
       "<style>\n",
       "    .dataframe thead tr:only-child th {\n",
       "        text-align: right;\n",
       "    }\n",
       "\n",
       "    .dataframe thead th {\n",
       "        text-align: left;\n",
       "    }\n",
       "\n",
       "    .dataframe tbody tr th {\n",
       "        vertical-align: top;\n",
       "    }\n",
       "</style>\n",
       "<table border=\"1\" class=\"dataframe\">\n",
       "  <thead>\n",
       "    <tr style=\"text-align: right;\">\n",
       "      <th></th>\n",
       "      <th>Satisfaction Level</th>\n",
       "      <th>Last Evaluation</th>\n",
       "      <th>Number of Projects</th>\n",
       "      <th>Monthly Hours</th>\n",
       "      <th>Years at Company</th>\n",
       "      <th>Work Accident</th>\n",
       "      <th>Left</th>\n",
       "      <th>Promotion</th>\n",
       "    </tr>\n",
       "  </thead>\n",
       "  <tbody>\n",
       "    <tr>\n",
       "      <th>Satisfaction Level</th>\n",
       "      <td>1.000000</td>\n",
       "      <td>0.105021</td>\n",
       "      <td>-0.142970</td>\n",
       "      <td>-0.020048</td>\n",
       "      <td>-0.100866</td>\n",
       "      <td>0.058697</td>\n",
       "      <td>-0.388375</td>\n",
       "      <td>0.025605</td>\n",
       "    </tr>\n",
       "    <tr>\n",
       "      <th>Last Evaluation</th>\n",
       "      <td>0.105021</td>\n",
       "      <td>1.000000</td>\n",
       "      <td>0.349333</td>\n",
       "      <td>0.339742</td>\n",
       "      <td>0.131591</td>\n",
       "      <td>-0.007104</td>\n",
       "      <td>0.006567</td>\n",
       "      <td>-0.008684</td>\n",
       "    </tr>\n",
       "    <tr>\n",
       "      <th>Number of Projects</th>\n",
       "      <td>-0.142970</td>\n",
       "      <td>0.349333</td>\n",
       "      <td>1.000000</td>\n",
       "      <td>0.417211</td>\n",
       "      <td>0.196786</td>\n",
       "      <td>-0.004741</td>\n",
       "      <td>0.023787</td>\n",
       "      <td>-0.006064</td>\n",
       "    </tr>\n",
       "    <tr>\n",
       "      <th>Monthly Hours</th>\n",
       "      <td>-0.020048</td>\n",
       "      <td>0.339742</td>\n",
       "      <td>0.417211</td>\n",
       "      <td>1.000000</td>\n",
       "      <td>0.127755</td>\n",
       "      <td>-0.010143</td>\n",
       "      <td>0.071287</td>\n",
       "      <td>-0.003544</td>\n",
       "    </tr>\n",
       "    <tr>\n",
       "      <th>Years at Company</th>\n",
       "      <td>-0.100866</td>\n",
       "      <td>0.131591</td>\n",
       "      <td>0.196786</td>\n",
       "      <td>0.127755</td>\n",
       "      <td>1.000000</td>\n",
       "      <td>0.002120</td>\n",
       "      <td>0.144822</td>\n",
       "      <td>0.067433</td>\n",
       "    </tr>\n",
       "    <tr>\n",
       "      <th>Work Accident</th>\n",
       "      <td>0.058697</td>\n",
       "      <td>-0.007104</td>\n",
       "      <td>-0.004741</td>\n",
       "      <td>-0.010143</td>\n",
       "      <td>0.002120</td>\n",
       "      <td>1.000000</td>\n",
       "      <td>-0.154622</td>\n",
       "      <td>0.039245</td>\n",
       "    </tr>\n",
       "    <tr>\n",
       "      <th>Left</th>\n",
       "      <td>-0.388375</td>\n",
       "      <td>0.006567</td>\n",
       "      <td>0.023787</td>\n",
       "      <td>0.071287</td>\n",
       "      <td>0.144822</td>\n",
       "      <td>-0.154622</td>\n",
       "      <td>1.000000</td>\n",
       "      <td>-0.061788</td>\n",
       "    </tr>\n",
       "    <tr>\n",
       "      <th>Promotion</th>\n",
       "      <td>0.025605</td>\n",
       "      <td>-0.008684</td>\n",
       "      <td>-0.006064</td>\n",
       "      <td>-0.003544</td>\n",
       "      <td>0.067433</td>\n",
       "      <td>0.039245</td>\n",
       "      <td>-0.061788</td>\n",
       "      <td>1.000000</td>\n",
       "    </tr>\n",
       "  </tbody>\n",
       "</table>\n",
       "</div>"
      ],
      "text/plain": [
       "                    Satisfaction Level  Last Evaluation  Number of Projects  \\\n",
       "Satisfaction Level            1.000000         0.105021           -0.142970   \n",
       "Last Evaluation               0.105021         1.000000            0.349333   \n",
       "Number of Projects           -0.142970         0.349333            1.000000   \n",
       "Monthly Hours                -0.020048         0.339742            0.417211   \n",
       "Years at Company             -0.100866         0.131591            0.196786   \n",
       "Work Accident                 0.058697        -0.007104           -0.004741   \n",
       "Left                         -0.388375         0.006567            0.023787   \n",
       "Promotion                     0.025605        -0.008684           -0.006064   \n",
       "\n",
       "                    Monthly Hours  Years at Company  Work Accident      Left  \\\n",
       "Satisfaction Level      -0.020048         -0.100866       0.058697 -0.388375   \n",
       "Last Evaluation          0.339742          0.131591      -0.007104  0.006567   \n",
       "Number of Projects       0.417211          0.196786      -0.004741  0.023787   \n",
       "Monthly Hours            1.000000          0.127755      -0.010143  0.071287   \n",
       "Years at Company         0.127755          1.000000       0.002120  0.144822   \n",
       "Work Accident           -0.010143          0.002120       1.000000 -0.154622   \n",
       "Left                     0.071287          0.144822      -0.154622  1.000000   \n",
       "Promotion               -0.003544          0.067433       0.039245 -0.061788   \n",
       "\n",
       "                    Promotion  \n",
       "Satisfaction Level   0.025605  \n",
       "Last Evaluation     -0.008684  \n",
       "Number of Projects  -0.006064  \n",
       "Monthly Hours       -0.003544  \n",
       "Years at Company     0.067433  \n",
       "Work Accident        0.039245  \n",
       "Left                -0.061788  \n",
       "Promotion            1.000000  "
      ]
     },
     "execution_count": 369,
     "metadata": {},
     "output_type": "execute_result"
    }
   ],
   "source": [
    "df.columns= ['Satisfaction Level', 'Last Evaluation','Number of Projects','Monthly Hours', 'Years at Company', 'Work Accident', 'Left', 'Promotion', 'Sales', 'Salary']\n",
    "corrframe = pd.DataFrame(df.corr())\n",
    "corrframe"
   ]
  },
  {
   "cell_type": "markdown",
   "metadata": {},
   "source": [
    "We have created a new dataframe showing a matrix of the correlation between all of the variables. The column we want to focus on\n",
    "at the moment is the \"left\" row. Here we can see which values are most closely correlated, positive or negative, to an employee leaving.\n",
    "\n",
    "The Heat Map will give us a visual representation of which values are closest correlated.\n",
    "dual histogram for relationship between variables"
   ]
  },
  {
   "cell_type": "code",
   "execution_count": 370,
   "metadata": {},
   "outputs": [
    {
     "data": {
      "text/plain": [
       "<matplotlib.text.Text at 0xdcb0cabd30>"
      ]
     },
     "execution_count": 370,
     "metadata": {},
     "output_type": "execute_result"
    },
    {
     "data": {
      "image/png": "[encoded data removed]",
      "text/plain": [
       "<matplotlib.figure.Figure at 0xdcb0eed630>"
      ]
     },
     "metadata": {},
     "output_type": "display_data"
    }
   ],
   "source": [
    "import seaborn as sns\n",
    "sns.heatmap(corrframe)\n",
    "sns.plt.title('Heatmap of Correlation Matrix')"
   ]
  },
  {
   "cell_type": "code",
   "execution_count": 371,
   "metadata": {},
   "outputs": [
    {
     "name": "stdout",
     "output_type": "stream",
     "text": [
      "Satisfaction Level   -0.388375\n",
      "Last Evaluation       0.006567\n",
      "Number of Projects    0.023787\n",
      "Monthly Hours         0.071287\n",
      "Years at Company      0.144822\n",
      "Work Accident        -0.154622\n",
      "Left                  1.000000\n",
      "Promotion            -0.061788\n",
      "Name: Left, dtype: float64\n"
     ]
    }
   ],
   "source": [
    "print (corrframe['Left'])"
   ]
  },
  {
   "cell_type": "markdown",
   "metadata": {},
   "source": [
    "We want to look at the absolute value of each these values so we can see which variable has the most impact on an employee leaving regardless of whether that value is positive or negative. So we are looking for the values closest to 1 or -1.\n",
    "\"Satisfaction Level\" has the largest correlation positive or negative to employees leaving the firm. To take a closer look at the \"Satisfaction Level\" variable we want to first find out whether the variable is normally distributed."
   ]
  },
  {
   "cell_type": "code",
   "execution_count": 373,
   "metadata": {},
   "outputs": [
    {
     "data": {
      "text/plain": [
       "<matplotlib.text.Text at 0xdcb07b8048>"
      ]
     },
     "execution_count": 373,
     "metadata": {},
     "output_type": "execute_result"
    },
    {
     "data": {
      "image/png": "[encoded data removed]",
      "text/plain": [
       "<matplotlib.figure.Figure at 0xdcb0872278>"
      ]
     },
     "metadata": {},
     "output_type": "display_data"
    }
   ],
   "source": [
    "satis = df['Satisfaction Level']\n",
    "plt.hist(satis, bins=20)\n",
    "plt.axvline(satis.mean(), color='b', linestyle='solid', linewidth=2)\n",
    "plt.axvline(satis.mean() + satis.std(), color='b', linestyle='dashed', linewidth=2)\n",
    "plt.axvline(satis.mean()-satis.std(), color='b', linestyle='dashed', linewidth=2)\n",
    "plt.title('Satisfaction Level of Employees Histogram')\n",
    "plt.xlabel('Satisfaction Level')\n",
    "plt.ylabel('Frequency')"
   ]
  },
  {
   "cell_type": "code",
   "execution_count": 375,
   "metadata": {},
   "outputs": [],
   "source": [
    "satis_1 = sorted(satis)\n",
    "norm = np.random.normal(0, 1, 14999)\n",
    "norm_1 = sorted(norm)"
   ]
  },
  {
   "cell_type": "code",
   "execution_count": 376,
   "metadata": {},
   "outputs": [
    {
     "data": {
      "image/png": "[encoded data removed]",
      "text/plain": [
       "<matplotlib.figure.Figure at 0xdcb0553240>"
      ]
     },
     "metadata": {},
     "output_type": "display_data"
    }
   ],
   "source": [
    "plt.plot(norm_1, satis_1, \"o\") \n",
    "plt.show() "
   ]
  },
  {
   "cell_type": "code",
   "execution_count": 377,
   "metadata": {},
   "outputs": [
    {
     "data": {
      "text/plain": [
       "NormaltestResult(statistic=1200.9584504966565, pvalue=1.6412924703269606e-261)"
      ]
     },
     "execution_count": 377,
     "metadata": {},
     "output_type": "execute_result"
    }
   ],
   "source": [
    "import scipy.stats as stats\n",
    "stats.normaltes"
   ]
  },
  {
   "cell_type": "markdown",
   "metadata": {},
   "source": [
    "Taking a look at the two graphs and the p value of our Normal test we can see that the data is not normally distributed. Luckily we can use the Mann-Whitney U test to determine if our sample means came from a similar distribution. This would mean the satisfaction level does not vary between workers who left and those who stayed.\n",
    "\n",
    "From our earlier chart we can see the mean satisfaction level of employees who left was 0.440098.\n",
    "The mean satisfaction level of employees who stayed was 0.666810."
   ]
  },
  {
   "cell_type": "code",
   "execution_count": 390,
   "metadata": {},
   "outputs": [
    {
     "data": {
      "text/plain": [
       "MannwhitneyuResult(statistic=10286473.0, pvalue=0.0)"
      ]
     },
     "execution_count": 390,
     "metadata": {},
     "output_type": "execute_result"
    }
   ],
   "source": [
    "\n",
    "satis_left = df[df['Left']==1]['Satisfaction Level']\n",
    "satis_stay = df[df['Left']==0]['Satisfaction Level']\n",
    "\n",
    "scipy.stats.mannwhitneyu(satis_left,satis_stay)"
   ]
  },
  {
   "cell_type": "markdown",
   "metadata": {},
   "source": [
    "Looking at our extremely low p value we can conclude these two means do not come from the same distribution, meaning that satisfaction level does indeed vary between employees who left and those who stayed. Combining this test with our correlation matrix, and heat map we can conclude satisfaction level is the best predictor of whether an employee will stay or not. We will discuss how the company can use this information to prevent employees from staying later in the report."
   ]
  },
  {
   "cell_type": "markdown",
   "metadata": {},
   "source": [
    "## Can the company allocate more money to salary to entice employees to stay?"
   ]
  },
  {
   "cell_type": "code",
   "execution_count": 378,
   "metadata": {},
   "outputs": [
    {
     "name": "stdout",
     "output_type": "stream",
     "text": [
      "{'high', 'medium', 'low'}\n"
     ]
    }
   ],
   "source": [
    "\n",
    "salary = df['Salary']\n",
    "x = set(salary)\n",
    "print (x)"
   ]
  },
  {
   "cell_type": "code",
   "execution_count": 379,
   "metadata": {},
   "outputs": [
    {
     "data": {
      "text/plain": [
       "Counter({'high': 1237, 'low': 7316, 'medium': 6446})"
      ]
     },
     "execution_count": 379,
     "metadata": {},
     "output_type": "execute_result"
    }
   ],
   "source": [
    "from collections import Counter\n",
    "Counter(salary)\n",
    "#There are 1237 instances of a high salary, 7316 instances of a low salary, and 6446 instances of a medium salary.\n"
   ]
  },
  {
   "cell_type": "code",
   "execution_count": 236,
   "metadata": {},
   "outputs": [
    {
     "data": {
      "text/plain": [
       "<matplotlib.text.Text at 0xdcaec44438>"
      ]
     },
     "execution_count": 236,
     "metadata": {},
     "output_type": "execute_result"
    },
    {
     "data": {
      "image/png": "[encoded data removed]",
      "text/plain": [
       "<matplotlib.figure.Figure at 0xdcaffd9978>"
      ]
     },
     "metadata": {},
     "output_type": "display_data"
    }
   ],
   "source": [
    "new_sal = [7316, 6446, 1237]\n",
    "objects = ('Low', 'Medium','High')\n",
    "y_pos = np.arange(len(objects))\n",
    "plt.bar(y_pos, new_sal, align='center', alpha=0.5)\n",
    "plt.xticks(y_pos, objects)\n",
    "plt.ylabel('Employees')\n",
    "plt.xlabel('Salary')\n",
    "plt.title('Employee Salaries')"
   ]
  },
  {
   "cell_type": "markdown",
   "metadata": {},
   "source": [
    "We Have a bar chart showing the number from the table above. To get meaningful information from this chart we need to add the\n",
    "amount of employees who left the company from each salary point."
   ]
  },
  {
   "cell_type": "code",
   "execution_count": 299,
   "metadata": {},
   "outputs": [
    {
     "data": {
      "text/plain": [
       "satisfaction_level       2172\n",
       "last_evaluation          2172\n",
       "number_project           2172\n",
       "average_montly_hours     2172\n",
       "time_spend_company       2172\n",
       "Work_accident            2172\n",
       "left                     2172\n",
       "promotion_last_5years    2172\n",
       "sales                    2172\n",
       "salary                   2172\n",
       "dtype: int64"
      ]
     },
     "execution_count": 299,
     "metadata": {},
     "output_type": "execute_result"
    }
   ],
   "source": [
    "sal_low = df[(df['left']==1) & (df['salary']=='low')]\n",
    "sal_low.count()"
   ]
  },
  {
   "cell_type": "code",
   "execution_count": 298,
   "metadata": {},
   "outputs": [
    {
     "data": {
      "text/plain": [
       "satisfaction_level       1317\n",
       "last_evaluation          1317\n",
       "number_project           1317\n",
       "average_montly_hours     1317\n",
       "time_spend_company       1317\n",
       "Work_accident            1317\n",
       "left                     1317\n",
       "promotion_last_5years    1317\n",
       "sales                    1317\n",
       "salary                   1317\n",
       "dtype: int64"
      ]
     },
     "execution_count": 298,
     "metadata": {},
     "output_type": "execute_result"
    }
   ],
   "source": [
    "sal_med = df[(df['left']==1) & (df['salary']=='medium')]\n",
    "sal_med.count()"
   ]
  },
  {
   "cell_type": "code",
   "execution_count": 293,
   "metadata": {},
   "outputs": [
    {
     "data": {
      "text/plain": [
       "satisfaction_level       82\n",
       "last_evaluation          82\n",
       "number_project           82\n",
       "average_montly_hours     82\n",
       "time_spend_company       82\n",
       "Work_accident            82\n",
       "left                     82\n",
       "promotion_last_5years    82\n",
       "sales                    82\n",
       "salary                   82\n",
       "dtype: int64"
      ]
     },
     "execution_count": 293,
     "metadata": {},
     "output_type": "execute_result"
    }
   ],
   "source": [
    "sal_high =df[(df['left']==1) & (df['salary']=='high')]\n",
    "sal_high.count()"
   ]
  },
  {
   "cell_type": "code",
   "execution_count": 388,
   "metadata": {},
   "outputs": [
    {
     "data": {
      "text/plain": [
       "<matplotlib.legend.Legend at 0xdcb0ddfd68>"
      ]
     },
     "execution_count": 388,
     "metadata": {},
     "output_type": "execute_result"
    },
    {
     "data": {
      "image/png": "[encoded data removed]",
      "text/plain": [
       "<matplotlib.figure.Figure at 0xdcb0dd0860>"
      ]
     },
     "metadata": {},
     "output_type": "display_data"
    }
   ],
   "source": [
    "#Now we can see how many employees left the company from each salary point.\n",
    "import matplotlib.patches as mpatches\n",
    "sal_left =[2172,1317,82]\n",
    "sal_stayed =[(7316-2172),(6446-1317),(1237-82)]\n",
    "objects = ('Low', 'Medium','High')\n",
    "y_pos =np.arange(len(objects))\n",
    "plt.bar(y_pos, sal_stayed, align='center', alpha=0.5, width=.3, color='b', label= 'Stayed With Company')\n",
    "plt.bar(y_pos+.3, sal_left, align='center', alpha=0.5, width=.3, color ='r', label='Left Company')\n",
    "plt.xticks(y_pos, objects)\n",
    "plt.ylabel('Employees')\n",
    "plt.xlabel('Salary')\n",
    "plt.title('Employee Salaries')\n",
    "red = mpatches.Patch(color='r', label='Left')\n",
    "blue = mpatches.Patch(color='b', label='Stayed')\n",
    "plt.legend(handles=[red, blue])"
   ]
  },
  {
   "cell_type": "code",
   "execution_count": 337,
   "metadata": {},
   "outputs": [
    {
     "data": {
      "image/png": "[encoded data removed]",
      "text/plain": [
       "<matplotlib.figure.Figure at 0xdcb0e2df60>"
      ]
     },
     "metadata": {},
     "output_type": "display_data"
    }
   ],
   "source": [
    "labels = 'Low', 'Medium', 'High'\n",
    "sizes =[2172,1317,82]\n",
    "colors = ['gold', 'yellowgreen', 'lightcoral', ]\n",
    "explode = (0, 0, 0.0) \n",
    "plt.pie(sizes, explode=explode, labels=labels, colors=colors,\n",
    "        autopct='%1.1f%%', startangle=360)\n",
    " \n",
    "plt.axis('equal')\n",
    "plt.title('Salaries of Employees Who Left Company')\n",
    "plt.tight_layout()\n",
    "plt.show()"
   ]
  },
  {
   "cell_type": "markdown",
   "metadata": {},
   "source": [
    "From the charts in this section we can tell a number of things about the salary of the employees of the company. The pie chart shows us that an extremely small percentage of employees who earned a high salary ended up leaving the company (2.3%). From the bar chart we know this number is only 82 of the 15000 employees who were surveyed.\n",
    "\n",
    "We can also see that the number of employees who receive both low and medium salaries are relatively similar, however those with low salaries tend to leave the company more often (as the pie chart clearly dictates.) \n",
    "\n",
    "Based on this information we can reasonably state that if the company allocated more money to salaries they would see a decrease in employee turnover. Employees are less likely to leave receiving a medium salary rather than a low one, and only in very rare circumstances leave while receiving a high salary."
   ]
  },
  {
   "cell_type": "markdown",
   "metadata": {},
   "source": [
    "## What can the company do preemptively while hiring an employee to help prevent said employee from leaving? \n",
    "\n",
    "To being to answer this question is important that we begin to analyze the other variables in the data set to see which other factors lead to employees leaving."
   ]
  },
  {
   "cell_type": "code",
   "execution_count": 409,
   "metadata": {},
   "outputs": [
    {
     "data": {
      "image/png": "[encoded data removed]",
      "text/plain": [
       "<matplotlib.figure.Figure at 0xdcb2136e48>"
      ]
     },
     "metadata": {},
     "output_type": "display_data"
    }
   ],
   "source": [
    "x= df[df['Left']==1]['Monthly Hours']\n",
    "y= df[df['Left']==0]['Monthly Hours']\n",
    "\n",
    "hours_left=sorted(x)\n",
    "hours_stay=sorted(y)\n",
    "\n",
    "plt.plot(hours_left,\"o\") \n",
    "plt.plot(hours_stay,\"r\") \n",
    "plt.show() "
   ]
  },
  {
   "cell_type": "code",
   "execution_count": null,
   "metadata": {
    "collapsed": true
   },
   "outputs": [],
   "source": []
  },
  {
   "cell_type": "code",
   "execution_count": null,
   "metadata": {
    "collapsed": true
   },
   "outputs": [],
   "source": []
  }
 ],
 "metadata": {
  "kernelspec": {
   "display_name": "Python 3",
   "language": "python",
   "name": "python3"
  },
  "language_info": {
   "codemirror_mode": {
    "name": "ipython",
    "version": 3
   },
   "file_extension": ".py",
   "mimetype": "text/x-python",
   "name": "python",
   "nbconvert_exporter": "python",
   "pygments_lexer": "ipython3",
   "version": "3.6.1"
  }
 },
 "nbformat": 4,
 "nbformat_minor": 2
}
