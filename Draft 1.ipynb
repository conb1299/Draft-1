{
 "cells": [
  {
   "cell_type": "markdown",
   "metadata": {},
   "source": [
    "Employee Turnover Analysis\n",
    " \n"
   ]
  },
  {
   "cell_type": "code",
   "execution_count": 218,
   "metadata": {},
   "outputs": [],
   "source": [
    "import pandas as pd\n",
    "import scipy\n",
    "import matplotlib.pyplot as plt\n",
    "%matplotlib inline"
   ]
  },
  {
   "cell_type": "code",
   "execution_count": 17,
   "metadata": {},
   "outputs": [
    {
     "name": "stdout",
     "output_type": "stream",
     "text": [
      "       satisfaction_level  last_evaluation  number_project  \\\n",
      "0                    0.38             0.53               2   \n",
      "1                    0.80             0.86               5   \n",
      "2                    0.11             0.88               7   \n",
      "3                    0.72             0.87               5   \n",
      "4                    0.37             0.52               2   \n",
      "5                    0.41             0.50               2   \n",
      "6                    0.10             0.77               6   \n",
      "7                    0.92             0.85               5   \n",
      "8                    0.89             1.00               5   \n",
      "9                    0.42             0.53               2   \n",
      "10                   0.45             0.54               2   \n",
      "11                   0.11             0.81               6   \n",
      "12                   0.84             0.92               4   \n",
      "13                   0.41             0.55               2   \n",
      "14                   0.36             0.56               2   \n",
      "15                   0.38             0.54               2   \n",
      "16                   0.45             0.47               2   \n",
      "17                   0.78             0.99               4   \n",
      "18                   0.45             0.51               2   \n",
      "19                   0.76             0.89               5   \n",
      "20                   0.11             0.83               6   \n",
      "21                   0.38             0.55               2   \n",
      "22                   0.09             0.95               6   \n",
      "23                   0.46             0.57               2   \n",
      "24                   0.40             0.53               2   \n",
      "25                   0.89             0.92               5   \n",
      "26                   0.82             0.87               4   \n",
      "27                   0.40             0.49               2   \n",
      "28                   0.41             0.46               2   \n",
      "29                   0.38             0.50               2   \n",
      "...                   ...              ...             ...   \n",
      "14969                0.43             0.46               2   \n",
      "14970                0.78             0.93               4   \n",
      "14971                0.39             0.45               2   \n",
      "14972                0.11             0.97               6   \n",
      "14973                0.36             0.52               2   \n",
      "14974                0.36             0.54               2   \n",
      "14975                0.10             0.79               7   \n",
      "14976                0.40             0.47               2   \n",
      "14977                0.81             0.85               4   \n",
      "14978                0.40             0.47               2   \n",
      "14979                0.09             0.93               6   \n",
      "14980                0.76             0.89               5   \n",
      "14981                0.73             0.93               5   \n",
      "14982                0.38             0.49               2   \n",
      "14983                0.72             0.84               5   \n",
      "14984                0.40             0.56               2   \n",
      "14985                0.91             0.99               5   \n",
      "14986                0.85             0.85               4   \n",
      "14987                0.90             0.70               5   \n",
      "14988                0.46             0.55               2   \n",
      "14989                0.43             0.57               2   \n",
      "14990                0.89             0.88               5   \n",
      "14991                0.09             0.81               6   \n",
      "14992                0.40             0.48               2   \n",
      "14993                0.76             0.83               6   \n",
      "14994                0.40             0.57               2   \n",
      "14995                0.37             0.48               2   \n",
      "14996                0.37             0.53               2   \n",
      "14997                0.11             0.96               6   \n",
      "14998                0.37             0.52               2   \n",
      "\n",
      "       average_montly_hours  time_spend_company  Work_accident  left  \\\n",
      "0                       157                   3              0     1   \n",
      "1                       262                   6              0     1   \n",
      "2                       272                   4              0     1   \n",
      "3                       223                   5              0     1   \n",
      "4                       159                   3              0     1   \n",
      "5                       153                   3              0     1   \n",
      "6                       247                   4              0     1   \n",
      "7                       259                   5              0     1   \n",
      "8                       224                   5              0     1   \n",
      "9                       142                   3              0     1   \n",
      "10                      135                   3              0     1   \n",
      "11                      305                   4              0     1   \n",
      "12                      234                   5              0     1   \n",
      "13                      148                   3              0     1   \n",
      "14                      137                   3              0     1   \n",
      "15                      143                   3              0     1   \n",
      "16                      160                   3              0     1   \n",
      "17                      255                   6              0     1   \n",
      "18                      160                   3              1     1   \n",
      "19                      262                   5              0     1   \n",
      "20                      282                   4              0     1   \n",
      "21                      147                   3              0     1   \n",
      "22                      304                   4              0     1   \n",
      "23                      139                   3              0     1   \n",
      "24                      158                   3              0     1   \n",
      "25                      242                   5              0     1   \n",
      "26                      239                   5              0     1   \n",
      "27                      135                   3              0     1   \n",
      "28                      128                   3              0     1   \n",
      "29                      132                   3              0     1   \n",
      "...                     ...                 ...            ...   ...   \n",
      "14969                   157                   3              0     1   \n",
      "14970                   225                   5              0     1   \n",
      "14971                   140                   3              0     1   \n",
      "14972                   310                   4              0     1   \n",
      "14973                   143                   3              0     1   \n",
      "14974                   153                   3              0     1   \n",
      "14975                   310                   4              0     1   \n",
      "14976                   136                   3              0     1   \n",
      "14977                   251                   6              0     1   \n",
      "14978                   144                   3              0     1   \n",
      "14979                   296                   4              0     1   \n",
      "14980                   238                   5              0     1   \n",
      "14981                   162                   4              0     1   \n",
      "14982                   137                   3              0     1   \n",
      "14983                   257                   5              0     1   \n",
      "14984                   148                   3              0     1   \n",
      "14985                   254                   5              0     1   \n",
      "14986                   247                   6              0     1   \n",
      "14987                   206                   4              0     1   \n",
      "14988                   145                   3              0     1   \n",
      "14989                   159                   3              1     1   \n",
      "14990                   228                   5              1     1   \n",
      "14991                   257                   4              0     1   \n",
      "14992                   155                   3              0     1   \n",
      "14993                   293                   6              0     1   \n",
      "14994                   151                   3              0     1   \n",
      "14995                   160                   3              0     1   \n",
      "14996                   143                   3              0     1   \n",
      "14997                   280                   4              0     1   \n",
      "14998                   158                   3              0     1   \n",
      "\n",
      "       promotion_last_5years       sales  salary  \n",
      "0                          0       sales     low  \n",
      "1                          0       sales  medium  \n",
      "2                          0       sales  medium  \n",
      "3                          0       sales     low  \n",
      "4                          0       sales     low  \n",
      "5                          0       sales     low  \n",
      "6                          0       sales     low  \n",
      "7                          0       sales     low  \n",
      "8                          0       sales     low  \n",
      "9                          0       sales     low  \n",
      "10                         0       sales     low  \n",
      "11                         0       sales     low  \n",
      "12                         0       sales     low  \n",
      "13                         0       sales     low  \n",
      "14                         0       sales     low  \n",
      "15                         0       sales     low  \n",
      "16                         0       sales     low  \n",
      "17                         0       sales     low  \n",
      "18                         1       sales     low  \n",
      "19                         0       sales     low  \n",
      "20                         0       sales     low  \n",
      "21                         0       sales     low  \n",
      "22                         0       sales     low  \n",
      "23                         0       sales     low  \n",
      "24                         0       sales     low  \n",
      "25                         0       sales     low  \n",
      "26                         0       sales     low  \n",
      "27                         0       sales     low  \n",
      "28                         0  accounting     low  \n",
      "29                         0  accounting     low  \n",
      "...                      ...         ...     ...  \n",
      "14969                      0       sales  medium  \n",
      "14970                      0       sales  medium  \n",
      "14971                      0       sales  medium  \n",
      "14972                      0  accounting  medium  \n",
      "14973                      0  accounting  medium  \n",
      "14974                      0  accounting  medium  \n",
      "14975                      0          hr  medium  \n",
      "14976                      0          hr  medium  \n",
      "14977                      0          hr  medium  \n",
      "14978                      0          hr  medium  \n",
      "14979                      0   technical  medium  \n",
      "14980                      0   technical    high  \n",
      "14981                      0   technical     low  \n",
      "14982                      0   technical  medium  \n",
      "14983                      0   technical  medium  \n",
      "14984                      0   technical  medium  \n",
      "14985                      0   technical  medium  \n",
      "14986                      0   technical     low  \n",
      "14987                      0   technical     low  \n",
      "14988                      0   technical     low  \n",
      "14989                      0   technical     low  \n",
      "14990                      0     support     low  \n",
      "14991                      0     support     low  \n",
      "14992                      0     support     low  \n",
      "14993                      0     support     low  \n",
      "14994                      0     support     low  \n",
      "14995                      0     support     low  \n",
      "14996                      0     support     low  \n",
      "14997                      0     support     low  \n",
      "14998                      0     support     low  \n",
      "\n",
      "[14999 rows x 10 columns]\n"
     ]
    }
   ],
   "source": [
    "df = pd.read_csv('Human_Resources.csv')\n",
    ">>> print(df)\n",
    "#This dataframe shows us a list of employees from a specific company and variables describing their time there.\n",
    "#We want to look at the rate of turnover of the employees and answer a few questions to help the company moving foward.\n",
    "#First we want to identify which factor is most predictive of an employee leaving?\n",
    "#Next,can the company allocate more money to their employees to help entice them to stay? \n",
    "#Lastly, what can the company do preemptively while hiring an employee to help prevent said employee from leaving? \n",
    "#By looking at the data we can come to some conclusions that should help the company dealing with their turnover problem"
   ]
  },
  {
   "cell_type": "code",
   "execution_count": 20,
   "metadata": {},
   "outputs": [
    {
     "data": {
      "text/plain": [
       "['satisfaction_level',\n",
       " 'last_evaluation',\n",
       " 'number_project',\n",
       " 'average_montly_hours',\n",
       " 'time_spend_company',\n",
       " 'Work_accident',\n",
       " 'left',\n",
       " 'promotion_last_5years',\n",
       " 'sales',\n",
       " 'salary']"
      ]
     },
     "execution_count": 20,
     "metadata": {},
     "output_type": "execute_result"
    }
   ],
   "source": [
    "list(df)\n",
    "#Listing the list of variables which are represented in the dataset. "
   ]
  },
  {
   "cell_type": "code",
   "execution_count": 24,
   "metadata": {},
   "outputs": [
    {
     "data": {
      "text/plain": [
       "0.2380825388359224"
      ]
     },
     "execution_count": 24,
     "metadata": {},
     "output_type": "execute_result"
    }
   ],
   "source": [
    "df['left'].mean()"
   ]
  },
  {
   "cell_type": "code",
   "execution_count": 131,
   "metadata": {},
   "outputs": [
    {
     "data": {
      "text/html": [
       "<div>\n",
       "<style>\n",
       "    .dataframe thead tr:only-child th {\n",
       "        text-align: right;\n",
       "    }\n",
       "\n",
       "    .dataframe thead th {\n",
       "        text-align: left;\n",
       "    }\n",
       "\n",
       "    .dataframe tbody tr th {\n",
       "        vertical-align: top;\n",
       "    }\n",
       "</style>\n",
       "<table border=\"1\" class=\"dataframe\">\n",
       "  <thead>\n",
       "    <tr style=\"text-align: right;\">\n",
       "      <th></th>\n",
       "      <th>satisfaction_level</th>\n",
       "      <th>last_evaluation</th>\n",
       "      <th>number_project</th>\n",
       "      <th>average_montly_hours</th>\n",
       "      <th>time_spend_company</th>\n",
       "      <th>Work_accident</th>\n",
       "      <th>promotion_last_5years</th>\n",
       "    </tr>\n",
       "    <tr>\n",
       "      <th>left</th>\n",
       "      <th></th>\n",
       "      <th></th>\n",
       "      <th></th>\n",
       "      <th></th>\n",
       "      <th></th>\n",
       "      <th></th>\n",
       "      <th></th>\n",
       "    </tr>\n",
       "  </thead>\n",
       "  <tbody>\n",
       "    <tr>\n",
       "      <th>0</th>\n",
       "      <td>0.666810</td>\n",
       "      <td>0.715473</td>\n",
       "      <td>3.786664</td>\n",
       "      <td>199.060203</td>\n",
       "      <td>3.380032</td>\n",
       "      <td>0.175009</td>\n",
       "      <td>0.026251</td>\n",
       "    </tr>\n",
       "    <tr>\n",
       "      <th>1</th>\n",
       "      <td>0.440098</td>\n",
       "      <td>0.718113</td>\n",
       "      <td>3.855503</td>\n",
       "      <td>207.419210</td>\n",
       "      <td>3.876505</td>\n",
       "      <td>0.047326</td>\n",
       "      <td>0.005321</td>\n",
       "    </tr>\n",
       "  </tbody>\n",
       "</table>\n",
       "</div>"
      ],
      "text/plain": [
       "      satisfaction_level  last_evaluation  number_project  \\\n",
       "left                                                        \n",
       "0               0.666810         0.715473        3.786664   \n",
       "1               0.440098         0.718113        3.855503   \n",
       "\n",
       "      average_montly_hours  time_spend_company  Work_accident  \\\n",
       "left                                                            \n",
       "0               199.060203            3.380032       0.175009   \n",
       "1               207.419210            3.876505       0.047326   \n",
       "\n",
       "      promotion_last_5years  \n",
       "left                         \n",
       "0                  0.026251  \n",
       "1                  0.005321  "
      ]
     },
     "execution_count": 131,
     "metadata": {},
     "output_type": "execute_result"
    }
   ],
   "source": [
    "#The column 'left' has an integer value to represent whether or not the employee left the company with 1 indicatiNG they did\n",
    "#and 0 indicating they did not. Taking the mean of this data we can see 23% of employees did indeed leave the company.\n",
    "\n",
    "left_summary= df.groupby('left')\n",
    "left_summary.mean()\n",
    "\n",
    "#Here we are summarzing the data based on the average of each variable when an employee left and when an employee stayed."
   ]
  },
  {
   "cell_type": "code",
   "execution_count": 155,
   "metadata": {
    "scrolled": true
   },
   "outputs": [
    {
     "data": {
      "text/html": [
       "<div>\n",
       "<style>\n",
       "    .dataframe thead tr:only-child th {\n",
       "        text-align: right;\n",
       "    }\n",
       "\n",
       "    .dataframe thead th {\n",
       "        text-align: left;\n",
       "    }\n",
       "\n",
       "    .dataframe tbody tr th {\n",
       "        vertical-align: top;\n",
       "    }\n",
       "</style>\n",
       "<table border=\"1\" class=\"dataframe\">\n",
       "  <thead>\n",
       "    <tr style=\"text-align: right;\">\n",
       "      <th></th>\n",
       "      <th>satisfaction_level</th>\n",
       "      <th>last_evaluation</th>\n",
       "      <th>number_project</th>\n",
       "      <th>average_montly_hours</th>\n",
       "      <th>time_spend_company</th>\n",
       "      <th>Work_accident</th>\n",
       "      <th>left</th>\n",
       "      <th>promotion_last_5years</th>\n",
       "    </tr>\n",
       "  </thead>\n",
       "  <tbody>\n",
       "    <tr>\n",
       "      <th>satisfaction_level</th>\n",
       "      <td>1.000000</td>\n",
       "      <td>0.105021</td>\n",
       "      <td>-0.142970</td>\n",
       "      <td>-0.020048</td>\n",
       "      <td>-0.100866</td>\n",
       "      <td>0.058697</td>\n",
       "      <td>-0.388375</td>\n",
       "      <td>0.025605</td>\n",
       "    </tr>\n",
       "    <tr>\n",
       "      <th>last_evaluation</th>\n",
       "      <td>0.105021</td>\n",
       "      <td>1.000000</td>\n",
       "      <td>0.349333</td>\n",
       "      <td>0.339742</td>\n",
       "      <td>0.131591</td>\n",
       "      <td>-0.007104</td>\n",
       "      <td>0.006567</td>\n",
       "      <td>-0.008684</td>\n",
       "    </tr>\n",
       "    <tr>\n",
       "      <th>number_project</th>\n",
       "      <td>-0.142970</td>\n",
       "      <td>0.349333</td>\n",
       "      <td>1.000000</td>\n",
       "      <td>0.417211</td>\n",
       "      <td>0.196786</td>\n",
       "      <td>-0.004741</td>\n",
       "      <td>0.023787</td>\n",
       "      <td>-0.006064</td>\n",
       "    </tr>\n",
       "    <tr>\n",
       "      <th>average_montly_hours</th>\n",
       "      <td>-0.020048</td>\n",
       "      <td>0.339742</td>\n",
       "      <td>0.417211</td>\n",
       "      <td>1.000000</td>\n",
       "      <td>0.127755</td>\n",
       "      <td>-0.010143</td>\n",
       "      <td>0.071287</td>\n",
       "      <td>-0.003544</td>\n",
       "    </tr>\n",
       "    <tr>\n",
       "      <th>time_spend_company</th>\n",
       "      <td>-0.100866</td>\n",
       "      <td>0.131591</td>\n",
       "      <td>0.196786</td>\n",
       "      <td>0.127755</td>\n",
       "      <td>1.000000</td>\n",
       "      <td>0.002120</td>\n",
       "      <td>0.144822</td>\n",
       "      <td>0.067433</td>\n",
       "    </tr>\n",
       "    <tr>\n",
       "      <th>Work_accident</th>\n",
       "      <td>0.058697</td>\n",
       "      <td>-0.007104</td>\n",
       "      <td>-0.004741</td>\n",
       "      <td>-0.010143</td>\n",
       "      <td>0.002120</td>\n",
       "      <td>1.000000</td>\n",
       "      <td>-0.154622</td>\n",
       "      <td>0.039245</td>\n",
       "    </tr>\n",
       "    <tr>\n",
       "      <th>left</th>\n",
       "      <td>-0.388375</td>\n",
       "      <td>0.006567</td>\n",
       "      <td>0.023787</td>\n",
       "      <td>0.071287</td>\n",
       "      <td>0.144822</td>\n",
       "      <td>-0.154622</td>\n",
       "      <td>1.000000</td>\n",
       "      <td>-0.061788</td>\n",
       "    </tr>\n",
       "    <tr>\n",
       "      <th>promotion_last_5years</th>\n",
       "      <td>0.025605</td>\n",
       "      <td>-0.008684</td>\n",
       "      <td>-0.006064</td>\n",
       "      <td>-0.003544</td>\n",
       "      <td>0.067433</td>\n",
       "      <td>0.039245</td>\n",
       "      <td>-0.061788</td>\n",
       "      <td>1.000000</td>\n",
       "    </tr>\n",
       "  </tbody>\n",
       "</table>\n",
       "</div>"
      ],
      "text/plain": [
       "                       satisfaction_level  last_evaluation  number_project  \\\n",
       "satisfaction_level               1.000000         0.105021       -0.142970   \n",
       "last_evaluation                  0.105021         1.000000        0.349333   \n",
       "number_project                  -0.142970         0.349333        1.000000   \n",
       "average_montly_hours            -0.020048         0.339742        0.417211   \n",
       "time_spend_company              -0.100866         0.131591        0.196786   \n",
       "Work_accident                    0.058697        -0.007104       -0.004741   \n",
       "left                            -0.388375         0.006567        0.023787   \n",
       "promotion_last_5years            0.025605        -0.008684       -0.006064   \n",
       "\n",
       "                       average_montly_hours  time_spend_company  \\\n",
       "satisfaction_level                -0.020048           -0.100866   \n",
       "last_evaluation                    0.339742            0.131591   \n",
       "number_project                     0.417211            0.196786   \n",
       "average_montly_hours               1.000000            0.127755   \n",
       "time_spend_company                 0.127755            1.000000   \n",
       "Work_accident                     -0.010143            0.002120   \n",
       "left                               0.071287            0.144822   \n",
       "promotion_last_5years             -0.003544            0.067433   \n",
       "\n",
       "                       Work_accident      left  promotion_last_5years  \n",
       "satisfaction_level          0.058697 -0.388375               0.025605  \n",
       "last_evaluation            -0.007104  0.006567              -0.008684  \n",
       "number_project             -0.004741  0.023787              -0.006064  \n",
       "average_montly_hours       -0.010143  0.071287              -0.003544  \n",
       "time_spend_company          0.002120  0.144822               0.067433  \n",
       "Work_accident               1.000000 -0.154622               0.039245  \n",
       "left                       -0.154622  1.000000              -0.061788  \n",
       "promotion_last_5years       0.039245 -0.061788               1.000000  "
      ]
     },
     "execution_count": 155,
     "metadata": {},
     "output_type": "execute_result"
    }
   ],
   "source": [
    "\n",
    "\n",
    "corrframe = pd.DataFrame(df.corr())\n",
    "corrframe\n",
    "#We have created a new dataframe showing a matrix of the correlation between all of the variables. The column we want to focus on\n",
    "#at the moment is the \"left\" row. Here we can see which values are most closely correlated, positive or negative, to an employee \n",
    "#leaving.\n",
    "#The Heat Map will give us a visual representation of which values are closest correlated.\n"
   ]
  },
  {
   "cell_type": "code",
   "execution_count": 160,
   "metadata": {},
   "outputs": [
    {
     "data": {
      "text/plain": [
       "<matplotlib.text.Text at 0xdcaea9c7b8>"
      ]
     },
     "execution_count": 160,
     "metadata": {},
     "output_type": "execute_result"
    },
    {
     "data": {
      "image/png": "[encoded data removed]",
      "text/plain": [
       "<matplotlib.figure.Figure at 0xdcababff98>"
      ]
     },
     "metadata": {},
     "output_type": "display_data"
    }
   ],
   "source": [
    "import seaborn as sns\n",
    "sns.heatmap(corrframe)\n",
    "sns.plt.title('Heatmap of Correlation Matrix')\n"
   ]
  },
  {
   "cell_type": "code",
   "execution_count": 151,
   "metadata": {},
   "outputs": [
    {
     "name": "stdout",
     "output_type": "stream",
     "text": [
      "satisfaction_level      -0.388375\n",
      "last_evaluation          0.006567\n",
      "number_project           0.023787\n",
      "average_montly_hours     0.071287\n",
      "time_spend_company       0.144822\n",
      "Work_accident           -0.154622\n",
      "left                     1.000000\n",
      "promotion_last_5years   -0.061788\n",
      "Name: left, dtype: float64\n"
     ]
    }
   ],
   "source": [
    "print (corrframe['left'])\n",
    "#We want to look at the absolute value of each these values so we can see which variable has the most impact on an employee leaving\n",
    "#whether that value is positive or negative. So we are looking for the values closest to 1 or -1.\n",
    "#\"Satisfaction level\" has the largest correlation positive or negative to employees leaving the firm."
   ]
  },
  {
   "cell_type": "code",
   "execution_count": null,
   "metadata": {},
   "outputs": [],
   "source": [
    "#To take a closer look at the \"satisfaction level\" variable we want to first find out whether the variable is normally distributed."
   ]
  },
  {
   "cell_type": "code",
   "execution_count": 164,
   "metadata": {},
   "outputs": [
    {
     "data": {
      "text/plain": [
       "<matplotlib.text.Text at 0xdcae7d60b8>"
      ]
     },
     "execution_count": 164,
     "metadata": {},
     "output_type": "execute_result"
    },
    {
     "data": {
      "image/png": "[encoded data removed]",
      "text/plain": [
       "<matplotlib.figure.Figure at 0xdcae7c64a8>"
      ]
     },
     "metadata": {},
     "output_type": "display_data"
    }
   ],
   "source": [
    "satis = df['satisfaction_level']\n",
    "plt.hist(satis, bins=20)\n",
    "plt.axvline(satis.mean(), color='b', linestyle='solid', linewidth=2)\n",
    "plt.axvline(satis.mean() + satis.std(), color='b', linestyle='dashed', linewidth=2)\n",
    "plt.axvline(satis.mean()-satis.std(), color='b', linestyle='dashed', linewidth=2)\n",
    "plt.title('Satisfaction Level of Employees Histogram')\n",
    "plt.xlabel('Satisfaction Level')\n",
    "plt.ylabel('Frequency')\n"
   ]
  },
  {
   "cell_type": "code",
   "execution_count": 166,
   "metadata": {},
   "outputs": [],
   "source": [
    "satis_1 = sorted(satis)\n",
    "norm = np.random.normal(0, 1, 14999)\n",
    "norm_1 = sorted(norm)"
   ]
  },
  {
   "cell_type": "code",
   "execution_count": 167,
   "metadata": {},
   "outputs": [
    {
     "data": {
      "image/png": "[encoded data removed]",
      "text/plain": [
       "<matplotlib.figure.Figure at 0xdcae954240>"
      ]
     },
     "metadata": {},
     "output_type": "display_data"
    }
   ],
   "source": [
    "plt.plot(norm_1, satis_1, \"o\") \n",
    "plt.show() "
   ]
  },
  {
   "cell_type": "code",
   "execution_count": 168,
   "metadata": {},
   "outputs": [
    {
     "data": {
      "text/plain": [
       "NormaltestResult(statistic=1200.9584504966565, pvalue=1.6412924703269606e-261)"
      ]
     },
     "execution_count": 168,
     "metadata": {},
     "output_type": "execute_result"
    }
   ],
   "source": [
    "import scipy.stats as stats\n",
    "stats.normaltest(satis)\n",
    "#Taking a look at the two graphs and the p value of our Normal test we can see that the data is not normally distributed.\n",
    "#Despite the non normal distribution if we separate the means of both employees who left and those who didn't\n",
    "#we can take a t-test to try and determine significance due to the high sample size."
   ]
  },
  {
   "cell_type": "code",
   "execution_count": 206,
   "metadata": {},
   "outputs": [
    {
     "data": {
      "text/plain": [
       "Ttest_indResult(statistic=-35.535364033870856, pvalue=1.0050711462549061e-247)"
      ]
     },
     "execution_count": 206,
     "metadata": {},
     "output_type": "execute_result"
    }
   ],
   "source": [
    "#From our earlier chart we can see the mean satisfaction level of employees who left was 0.440098.\n",
    "#The mean satisfaction level of employees who stayed was 0.666810.\n",
    "satis_left = df[df['left']==1]['satisfaction_level']\n",
    "satis_stay = df[df['left']==0]['satisfaction_level']\n",
    "#print(satis_left)\n",
    "#print (satis_stay)\n",
    "\n",
    "from scipy.stats import ttest_ind, ttest_ind_from_stats\n",
    "ttest_ind(satis_left, satis, equal_var=False)\n",
    "#Our t test stat is -35.5 with a very small p value. This tells us that satisfaction level of employees who left is indeed\n",
    "#statistically lower than the satisfcation level of all the employees as a whole."
   ]
  },
  {
   "cell_type": "code",
   "execution_count": 59,
   "metadata": {},
   "outputs": [
    {
     "name": "stdout",
     "output_type": "stream",
     "text": [
      "{'high', 'medium', 'low'}\n"
     ]
    }
   ],
   "source": [
    "#Next we want to look at the salaries of the employees and see if more money can be spent on payroll to entice workers to stay.\n",
    "salary = df['salary']\n",
    "x = set(salary)\n",
    "print (x)"
   ]
  },
  {
   "cell_type": "code",
   "execution_count": 225,
   "metadata": {},
   "outputs": [
    {
     "data": {
      "text/plain": [
       "Counter({'high': 1237, 'low': 7316, 'medium': 6446})"
      ]
     },
     "execution_count": 225,
     "metadata": {},
     "output_type": "execute_result"
    }
   ],
   "source": [
    "from collections import Counter\n",
    "Counter(salary)\n",
    "#There are 1237 instances of a high salary, 7316 instances of a low salary, and 6446 instances of a medium salary.\n"
   ]
  },
  {
   "cell_type": "code",
   "execution_count": 236,
   "metadata": {},
   "outputs": [
    {
     "data": {
      "text/plain": [
       "<matplotlib.text.Text at 0xdcaec44438>"
      ]
     },
     "execution_count": 236,
     "metadata": {},
     "output_type": "execute_result"
    },
    {
     "data": {
      "image/png": "[encoded data removed]",
      "text/plain": [
       "<matplotlib.figure.Figure at 0xdcaffd9978>"
      ]
     },
     "metadata": {},
     "output_type": "display_data"
    }
   ],
   "source": [
    "new_sal = [7316, 6446, 1237]\n",
    "objects = ('Low', 'Medium','High')\n",
    "y_pos = np.arange(len(objects))\n",
    "plt.bar(y_pos, new_sal, align='center', alpha=0.5)\n",
    "plt.xticks(y_pos, objects)\n",
    "plt.ylabel('Employees')\n",
    "plt.xlabel('Salary')\n",
    "plt.title('Employee Salaries')\n",
    " \n",
    "#We Have a bar chart showing the number from the table above. To get meaningful information from this chart we need to add the\n",
    "#amount of employees who left the company from each salary point."
   ]
  },
  {
   "cell_type": "code",
   "execution_count": 299,
   "metadata": {},
   "outputs": [
    {
     "data": {
      "text/plain": [
       "satisfaction_level       2172\n",
       "last_evaluation          2172\n",
       "number_project           2172\n",
       "average_montly_hours     2172\n",
       "time_spend_company       2172\n",
       "Work_accident            2172\n",
       "left                     2172\n",
       "promotion_last_5years    2172\n",
       "sales                    2172\n",
       "salary                   2172\n",
       "dtype: int64"
      ]
     },
     "execution_count": 299,
     "metadata": {},
     "output_type": "execute_result"
    }
   ],
   "source": [
    "sal_low = df[(df['left']==1) & (df['salary']=='low')]\n",
    "sal_low.count()"
   ]
  },
  {
   "cell_type": "code",
   "execution_count": 298,
   "metadata": {},
   "outputs": [
    {
     "data": {
      "text/plain": [
       "satisfaction_level       1317\n",
       "last_evaluation          1317\n",
       "number_project           1317\n",
       "average_montly_hours     1317\n",
       "time_spend_company       1317\n",
       "Work_accident            1317\n",
       "left                     1317\n",
       "promotion_last_5years    1317\n",
       "sales                    1317\n",
       "salary                   1317\n",
       "dtype: int64"
      ]
     },
     "execution_count": 298,
     "metadata": {},
     "output_type": "execute_result"
    }
   ],
   "source": [
    "sal_med = df[(df['left']==1) & (df['salary']=='medium')]\n",
    "sal_med.count()"
   ]
  },
  {
   "cell_type": "code",
   "execution_count": 293,
   "metadata": {},
   "outputs": [
    {
     "data": {
      "text/plain": [
       "satisfaction_level       82\n",
       "last_evaluation          82\n",
       "number_project           82\n",
       "average_montly_hours     82\n",
       "time_spend_company       82\n",
       "Work_accident            82\n",
       "left                     82\n",
       "promotion_last_5years    82\n",
       "sales                    82\n",
       "salary                   82\n",
       "dtype: int64"
      ]
     },
     "execution_count": 293,
     "metadata": {},
     "output_type": "execute_result"
    }
   ],
   "source": [
    "sal_high =df[(df['left']==1) & (df['salary']=='high')]\n",
    "sal_high.count()"
   ]
  },
  {
   "cell_type": "code",
   "execution_count": 319,
   "metadata": {},
   "outputs": [
    {
     "data": {
      "text/plain": [
       "<matplotlib.text.Text at 0xdcb08a70b8>"
      ]
     },
     "execution_count": 319,
     "metadata": {},
     "output_type": "execute_result"
    },
    {
     "data": {
      "image/png": "[encoded data removed]",
      "text/plain": [
       "<matplotlib.figure.Figure at 0xdcb07ddb70>"
      ]
     },
     "metadata": {},
     "output_type": "display_data"
    }
   ],
   "source": [
    "#Now we can see how many employees left the company from each salary point.\n",
    "sal_left =[2172,1317,82]\n",
    "sal_stayed =[(7316-2172),(6446-1317),(1237-82)]\n",
    "objects = ('Low', 'Medium','High')\n",
    "y_pos =np.arange(len(objects))\n",
    "plt.bar(y_pos, sal_stayed, align='center', alpha=0.5, width=.3, color='b', label= 'Stayed With Company')\n",
    "plt.bar(y_pos+.3, sal_left, align='center', alpha=0.5, width=.3, color ='r', label='Left Company')\n",
    "plt.xticks(y_pos, objects)\n",
    "plt.ylabel('Employees')\n",
    "plt.xlabel('Salary')\n",
    "plt.title('Employee Salaries')\n",
    "plt.legend(loc='upper right')\n",
    "\n",
    "#Add legend"
   ]
  },
  {
   "cell_type": "code",
   "execution_count": null,
   "metadata": {
    "collapsed": true
   },
   "outputs": [],
   "source": [
    "#The company should look to increase salary if they want to retain employees. Employees with high salaries rarely leave \n",
    "#the company while employees with medium and low salaries leave at a much more frequent rate."
   ]
  }
 ],
 "metadata": {
  "kernelspec": {
   "display_name": "Python 3",
   "language": "python",
   "name": "python3"
  },
  "language_info": {
   "codemirror_mode": {
    "name": "ipython",
    "version": 3
   },
   "file_extension": ".py",
   "mimetype": "text/x-python",
   "name": "python",
   "nbconvert_exporter": "python",
   "pygments_lexer": "ipython3",
   "version": "3.6.1"
  }
 },
 "nbformat": 4,
 "nbformat_minor": 2
}
